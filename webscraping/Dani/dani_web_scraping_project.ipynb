{
 "cells": [
  {
   "cell_type": "code",
   "execution_count": 70,
   "metadata": {
    "collapsed": true
   },
   "outputs": [],
   "source": [
    "# setup\n",
    "from bs4 import BeautifulSoup\n",
    "import requests\n",
    "import re\n",
    "import datetime\n",
    "import pandas as pd\n",
    "import time\n",
    "import sys  \n",
    "reload(sys)  \n",
    "sys.setdefaultencoding('utf8')"
   ]
  },
  {
   "cell_type": "code",
   "execution_count": 71,
   "metadata": {
    "collapsed": false
   },
   "outputs": [],
   "source": [
    "# initialization\n",
    "\n",
    "# time before scraping\n",
    "t0 = time.time()\n",
    "\n",
    "# insert number of days of concert data to scrape\n",
    "numDays = 365\n",
    "\n",
    "# create data frame to hold concert info\n",
    "concerts = pd.DataFrame()"
   ]
  },
  {
   "cell_type": "code",
   "execution_count": 72,
   "metadata": {
    "collapsed": true
   },
   "outputs": [],
   "source": [
    "# function to scrape info from a given link on site\n",
    "def scrape(link):\n",
    "    #parse webpage with BeautifulSoup\n",
    "    text = requests.get(link).text\n",
    "    text = BeautifulSoup(text)\n",
    "    \n",
    "    # extract venue and genre(s) from <title> tag\n",
    "    title = text.title.string\n",
    "    title = title.split(' | ')\n",
    "    venue = title[1]\n",
    "    genre = title[2].split(', ')\n",
    "    \n",
    "    # get price\n",
    "    price = text.find('div', 'price')\n",
    "    if price.string != None:\n",
    "        price = price.string.lower()\n",
    "    else:\n",
    "        price = ''\n",
    "    dollarValues = re.findall('(\\$\\d+\\.?\\d?\\d?)', price)\n",
    "    \n",
    "    # get time and date\n",
    "    time_date = text.find('div', 'when').get_text()\n",
    "    timeString = re.findall('(\\d*:\\d* .\\.m\\.)', time_date)\n",
    "    if len(timeString) == 0:\n",
    "        time = None\n",
    "    else:\n",
    "        time = timeString[0]\n",
    "\n",
    "    # get min and max concert price depending on price & format\n",
    "    if price.count('free') != 0:\n",
    "        minprice = maxprice = 0.00\n",
    "    elif len(dollarValues) == 0:\n",
    "        minprice = maxprice = None\n",
    "    else:\n",
    "        for i in range(0, len(dollarValues)):\n",
    "            dollarValues[i] = float(dollarValues[i].strip('$'))\n",
    "        minprice = min(dollarValues)\n",
    "        maxprice = max(dollarValues)\n",
    "        \n",
    "    # get neighborhood\n",
    "    neighborhood = text.find('div', 'neighborhood').get_text()\n",
    "    neighborhood = re.sub('(\\\\n\\\\n *)', '', neighborhood)\n",
    "    neighborhood = re.sub('( *\\\\n)$', '', neighborhood)\n",
    "    \n",
    "    # get address info\n",
    "    address = text.find('div', 'address').get_text()\n",
    "    address = re.split('(?:\\\\xa0)?\\\\n +|\\D+$', address)\n",
    "    street = address[1]\n",
    "    city = address[2]\n",
    "    zipcode = address[3]\n",
    "    phone = address[4]\n",
    "    address_full = ', '.join([street, city, zipcode])\n",
    "    \n",
    "    # return list with relevant info\n",
    "    return [venue, minprice, maxprice, neighborhood, address_full, time]"
   ]
  },
  {
   "cell_type": "code",
   "execution_count": 73,
   "metadata": {
    "collapsed": false,
    "scrolled": true
   },
   "outputs": [],
   "source": [
    "# get list of concert links from todays date in defined range\n",
    "for j in range(0, numDays):\n",
    "    # get string with date\n",
    "    date = datetime.date.today() + datetime.timedelta(days = j) \n",
    "    dateString = date.strftime(\"%Y-%m-%d\")\n",
    "    \n",
    "    # parse webpage with BeautifulSoup\n",
    "    url = 'http://www.villagevoice.com/concerts?date=' + dateString\n",
    "    text = requests.get(url).text\n",
    "    text = BeautifulSoup(text)\n",
    "    \n",
    "    #get list of artists on page with links to more info\n",
    "    artistTags = text.find_all('div', 'title')[1:]\n",
    "    artistStrings = [tag.get_text() for tag in artistTags]\n",
    "    artistLinks = [tag.a.attrs['href'] for tag in artistTags]\n",
    "    for i in range(0, len(artistLinks)):\n",
    "        artistLinks[i] = 'http://www.villagevoice.com' + artistLinks[i]\n",
    "        \n",
    "    # iterate through event links in page and add info as new row in data frame\n",
    "    for i in range(0,len(artistStrings)):\n",
    "        info = scrape(artistLinks[i])\n",
    "        row = pd.DataFrame({'date': [dateString], 'artist': [artistStrings[i]], \n",
    "                        'venue': info[0], 'minprice': info[1],\n",
    "                        'maxprice': info[2], 'neighborhood': info[3], \n",
    "                        'address': info[4], 'time': info[5]})\n",
    "        concerts = pd.concat([concerts, row])"
   ]
  },
  {
   "cell_type": "code",
   "execution_count": 74,
   "metadata": {
    "collapsed": false
   },
   "outputs": [],
   "source": [
    "# rearrange columns and force proper indexing\n",
    "cols = ['date', 'artist', 'venue', 'time', 'minprice', 'maxprice', 'neighborhood', 'address']\n",
    "concerts = concerts[cols].reset_index(drop=True)"
   ]
  },
  {
   "cell_type": "code",
   "execution_count": 77,
   "metadata": {
    "collapsed": true
   },
   "outputs": [],
   "source": [
    "# time after scraping\n",
    "t1 = time.time()"
   ]
  },
  {
   "cell_type": "code",
   "execution_count": 78,
   "metadata": {
    "collapsed": false
   },
   "outputs": [
    {
     "data": {
      "text/plain": [
       "1611.720999956131"
      ]
     },
     "execution_count": 78,
     "metadata": {},
     "output_type": "execute_result"
    }
   ],
   "source": [
    "# see how long it took to scrape the data\n",
    "t1 - t0"
   ]
  },
  {
   "cell_type": "code",
   "execution_count": 82,
   "metadata": {
    "collapsed": true
   },
   "outputs": [],
   "source": [
    "# save results to csv for analysis\n",
    "concerts.to_csv('concerts.csv')"
   ]
  }
 ],
 "metadata": {
  "kernelspec": {
   "display_name": "Python 2",
   "language": "python",
   "name": "python2"
  },
  "language_info": {
   "codemirror_mode": {
    "name": "ipython",
    "version": 2
   },
   "file_extension": ".py",
   "mimetype": "text/x-python",
   "name": "python",
   "nbconvert_exporter": "python",
   "pygments_lexer": "ipython2",
   "version": "2.7.9"
  }
 },
 "nbformat": 4,
 "nbformat_minor": 0
}
