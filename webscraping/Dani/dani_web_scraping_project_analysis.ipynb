{
 "cells": [
  {
   "cell_type": "code",
   "execution_count": 1,
   "metadata": {
    "collapsed": true
   },
   "outputs": [],
   "source": [
    "import pandas as pd\n",
    "import seaborn as sns\n",
    "import numpy as np\n",
    "%matplotlib inline\n",
    "import matplotlib.pyplot as plt"
   ]
  },
  {
   "cell_type": "code",
   "execution_count": 5,
   "metadata": {
    "collapsed": false
   },
   "outputs": [],
   "source": [
    "# read concerts csv outputted by web scraper\n",
    "data_raw = pd.read_csv('concerts.csv')\n",
    "data_raw = data_raw[['date', 'artist', 'venue', 'time', 'minprice', 'maxprice', 'neighborhood', 'address']]"
   ]
  },
  {
   "cell_type": "code",
   "execution_count": 6,
   "metadata": {
    "collapsed": false
   },
   "outputs": [
    {
     "data": {
      "text/plain": [
       "4329"
      ]
     },
     "execution_count": 6,
     "metadata": {},
     "output_type": "execute_result"
    }
   ],
   "source": [
    "# view number of concert entries\n",
    "len(data_raw)"
   ]
  },
  {
   "cell_type": "code",
   "execution_count": 18,
   "metadata": {
    "collapsed": true
   },
   "outputs": [],
   "source": [
    "# remove observations with missing values\n",
    "data = data_raw.dropna()"
   ]
  },
  {
   "cell_type": "code",
   "execution_count": 19,
   "metadata": {
    "collapsed": false
   },
   "outputs": [
    {
     "data": {
      "text/plain": [
       "4265"
      ]
     },
     "execution_count": 19,
     "metadata": {},
     "output_type": "execute_result"
    }
   ],
   "source": [
    "# see number of concerts after cleaning data\n",
    "len(data)"
   ]
  },
  {
   "cell_type": "code",
   "execution_count": 7,
   "metadata": {
    "collapsed": false,
    "scrolled": false
   },
   "outputs": [
    {
     "data": {
      "text/plain": [
       "533"
      ]
     },
     "execution_count": 7,
     "metadata": {},
     "output_type": "execute_result"
    }
   ],
   "source": [
    "# see number of free concerts\n",
    "len(data_raw[data_raw.minprice == 0])"
   ]
  },
  {
   "cell_type": "code",
   "execution_count": 29,
   "metadata": {
    "collapsed": false
   },
   "outputs": [
    {
     "data": {
      "text/plain": [
       "date            54\n",
       "artist          54\n",
       "venue           54\n",
       "time            54\n",
       "minprice        54\n",
       "maxprice        54\n",
       "neighborhood    54\n",
       "address         54\n",
       "dtype: int64"
      ]
     },
     "execution_count": 29,
     "metadata": {},
     "output_type": "execute_result"
    }
   ],
   "source": [
    "data_raw[data_raw['venue'] == 'Gramercy Theatre'].count()"
   ]
  },
  {
   "cell_type": "code",
   "execution_count": 31,
   "metadata": {
    "collapsed": false
   },
   "outputs": [
    {
     "data": {
      "text/plain": [
       "695.0"
      ]
     },
     "execution_count": 31,
     "metadata": {},
     "output_type": "execute_result"
    }
   ],
   "source": [
    "# see largest maximum price for a concert\n",
    "max(data_raw.maxprice)"
   ]
  },
  {
   "cell_type": "code",
   "execution_count": 32,
   "metadata": {
    "collapsed": false
   },
   "outputs": [
    {
     "data": {
      "text/html": [
       "<div style=\"max-height:1000px;max-width:1500px;overflow:auto;\">\n",
       "<table border=\"1\" class=\"dataframe\">\n",
       "  <thead>\n",
       "    <tr style=\"text-align: right;\">\n",
       "      <th></th>\n",
       "      <th>date</th>\n",
       "      <th>artist</th>\n",
       "      <th>venue</th>\n",
       "      <th>time</th>\n",
       "      <th>minprice</th>\n",
       "      <th>maxprice</th>\n",
       "      <th>neighborhood</th>\n",
       "      <th>address</th>\n",
       "    </tr>\n",
       "  </thead>\n",
       "  <tbody>\n",
       "    <tr>\n",
       "      <th>3658</th>\n",
       "      <td>2015-09-26</td>\n",
       "      <td>Ariana Grande</td>\n",
       "      <td>Barclays Center</td>\n",
       "      <td>7:30 p.m.</td>\n",
       "      <td>39.5</td>\n",
       "      <td>695</td>\n",
       "      <td>Brooklyn</td>\n",
       "      <td>620 Atlantic Ave., Brooklyn, NY, 11217</td>\n",
       "    </tr>\n",
       "  </tbody>\n",
       "</table>\n",
       "</div>"
      ],
      "text/plain": [
       "            date         artist            venue       time  minprice  \\\n",
       "3658  2015-09-26  Ariana Grande  Barclays Center  7:30 p.m.      39.5   \n",
       "\n",
       "      maxprice neighborhood                                 address  \n",
       "3658       695     Brooklyn  620 Atlantic Ave., Brooklyn, NY, 11217  "
      ]
     },
     "execution_count": 32,
     "metadata": {},
     "output_type": "execute_result"
    }
   ],
   "source": [
    "data_raw[data_raw.maxprice == 695]"
   ]
  },
  {
   "cell_type": "code",
   "execution_count": 108,
   "metadata": {
    "collapsed": false
   },
   "outputs": [
    {
     "data": {
      "text/plain": [
       "0    26.75\n",
       "1    26.75\n",
       "2    26.75\n",
       "3    26.75\n",
       "4    69.50\n",
       "Name: minprice, dtype: float64"
      ]
     },
     "execution_count": 108,
     "metadata": {},
     "output_type": "execute_result"
    }
   ],
   "source": [
    "# get minimum & maximmum ticket prices for non-free concerts\n",
    "minprice = data.minprice[data.minprice > 0]\n",
    "maxprice = data.maxprice[data.maxprice > 0]"
   ]
  },
  {
   "cell_type": "code",
   "execution_count": 116,
   "metadata": {
    "collapsed": false
   },
   "outputs": [
    {
     "data": {
      "image/png": "[encoded data removed]",
      "text/plain": [
       "<matplotlib.figure.Figure at 0x1b1fb978>"
      ]
     },
     "metadata": {},
     "output_type": "display_data"
    }
   ],
   "source": [
    "# plot histogram for minimum ticket prices\n",
    "plt.hist(minprice[minprice <= 80], bins = 15)\n",
    "plt.xlabel('Minimum ticket price ($)')\n",
    "plt.savefig('minprice.png')"
   ]
  },
  {
   "cell_type": "code",
   "execution_count": 115,
   "metadata": {
    "collapsed": false
   },
   "outputs": [
    {
     "data": {
      "image/png": "[encoded data removed]",
      "text/plain": [
       "<matplotlib.figure.Figure at 0x1b749208>"
      ]
     },
     "metadata": {},
     "output_type": "display_data"
    }
   ],
   "source": [
    "# plot histogram for maximum ticket prices\n",
    "plt.hist(maxprice[maxprice <= 300], bins = 15)\n",
    "plt.xlabel('Maximum ticket price ($)')\n",
    "plt.savefig('maxprice.png')"
   ]
  },
  {
   "cell_type": "code",
   "execution_count": 83,
   "metadata": {
    "collapsed": false
   },
   "outputs": [],
   "source": [
    "# get listing of top neighborhoods by # of concerts\n",
    "n_count = data_raw.groupby('neighborhood').count('date')\n",
    "n_count = n_count.sort_index(by = ['date'], ascending = False)\n",
    "n_count = n_count[\"date\"]"
   ]
  },
  {
   "cell_type": "code",
   "execution_count": 86,
   "metadata": {
    "collapsed": false
   },
   "outputs": [
    {
     "data": {
      "text/plain": [
       "neighborhood\n",
       "New Jersey           439\n",
       "Lower East Side      404\n",
       "West 40s             362\n",
       "Brooklyn             354\n",
       "East Village         325\n",
       "East 70s             325\n",
       "West Village         261\n",
       "Greenwich Village    243\n",
       "Noho                 175\n",
       "West 50s             159\n",
       "Name: date, dtype: int64"
      ]
     },
     "execution_count": 86,
     "metadata": {},
     "output_type": "execute_result"
    }
   ],
   "source": [
    "n_count.head(10)"
   ]
  },
  {
   "cell_type": "code",
   "execution_count": 89,
   "metadata": {
    "collapsed": false
   },
   "outputs": [
    {
     "data": {
      "text/plain": [
       "22.211599678456594"
      ]
     },
     "execution_count": 89,
     "metadata": {},
     "output_type": "execute_result"
    }
   ],
   "source": [
    "# see average minimum price for concert tickets (non-free)\n",
    "np.mean(minprice)"
   ]
  },
  {
   "cell_type": "code",
   "execution_count": 90,
   "metadata": {
    "collapsed": false
   },
   "outputs": [
    {
     "data": {
      "text/plain": [
       "35.197234726688102"
      ]
     },
     "execution_count": 90,
     "metadata": {},
     "output_type": "execute_result"
    }
   ],
   "source": [
    "# see average maximum price for concert tickets (non-free)\n",
    "np.mean(maxprice)"
   ]
  }
 ],
 "metadata": {
  "kernelspec": {
   "display_name": "Python 2",
   "language": "python",
   "name": "python2"
  },
  "language_info": {
   "codemirror_mode": {
    "name": "ipython",
    "version": 2
   },
   "file_extension": ".py",
   "mimetype": "text/x-python",
   "name": "python",
   "nbconvert_exporter": "python",
   "pygments_lexer": "ipython2",
   "version": "2.7.9"
  }
 },
 "nbformat": 4,
 "nbformat_minor": 0
}
