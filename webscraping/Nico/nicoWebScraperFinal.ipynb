{
 "cells": [
  {
   "cell_type": "markdown",
   "metadata": {},
   "source": [
    "CO2 Emission data analysis - Source: https://rggi-coats.org\n",
    "==============================\n",
    "The purpose of this project was to scrap data from an EPA affiliated website and analyse the CO2 emissions in the North Eastern US. In order to do this, we had to scrap 2 tables (Emissions and Owners)."
   ]
  },
  {
   "cell_type": "code",
   "execution_count": 3,
   "metadata": {
    "collapsed": false,
    "scrolled": true
   },
   "outputs": [
    {
     "data": {
      "text/html": [
       "<div style=\"max-height:1000px;max-width:1500px;overflow:auto;\">\n",
       "<table border=\"1\" class=\"dataframe\">\n",
       "  <thead>\n",
       "    <tr style=\"text-align: right;\">\n",
       "      <th></th>\n",
       "      <th>Date_Monitor</th>\n",
       "      <th>Emissions</th>\n",
       "      <th>Operating_Hours</th>\n",
       "      <th>Oris</th>\n",
       "      <th>Plant_Name</th>\n",
       "      <th>State</th>\n",
       "    </tr>\n",
       "  </thead>\n",
       "  <tbody>\n",
       "    <tr>\n",
       "      <th>0</th>\n",
       "      <td>2009-01-01</td>\n",
       "      <td>2574.935</td>\n",
       "      <td>89.10</td>\n",
       "      <td>544</td>\n",
       "      <td>Devon</td>\n",
       "      <td>CT</td>\n",
       "    </tr>\n",
       "    <tr>\n",
       "      <th>1</th>\n",
       "      <td>2009-04-01</td>\n",
       "      <td>589.222</td>\n",
       "      <td>24.69</td>\n",
       "      <td>544</td>\n",
       "      <td>Devon</td>\n",
       "      <td>CT</td>\n",
       "    </tr>\n",
       "    <tr>\n",
       "      <th>2</th>\n",
       "      <td>2009-07-01</td>\n",
       "      <td>1156.144</td>\n",
       "      <td>48.24</td>\n",
       "      <td>544</td>\n",
       "      <td>Devon</td>\n",
       "      <td>CT</td>\n",
       "    </tr>\n",
       "    <tr>\n",
       "      <th>3</th>\n",
       "      <td>2009-10-01</td>\n",
       "      <td>4496.612</td>\n",
       "      <td>158.34</td>\n",
       "      <td>544</td>\n",
       "      <td>Devon</td>\n",
       "      <td>CT</td>\n",
       "    </tr>\n",
       "    <tr>\n",
       "      <th>4</th>\n",
       "      <td>2010-01-01</td>\n",
       "      <td>2445.324</td>\n",
       "      <td>87.80</td>\n",
       "      <td>544</td>\n",
       "      <td>Devon</td>\n",
       "      <td>CT</td>\n",
       "    </tr>\n",
       "  </tbody>\n",
       "</table>\n",
       "</div>"
      ],
      "text/plain": [
       "  Date_Monitor  Emissions  Operating_Hours Oris Plant_Name State\n",
       "0   2009-01-01   2574.935            89.10  544      Devon    CT\n",
       "1   2009-04-01    589.222            24.69  544      Devon    CT\n",
       "2   2009-07-01   1156.144            48.24  544      Devon    CT\n",
       "3   2009-10-01   4496.612           158.34  544      Devon    CT\n",
       "4   2010-01-01   2445.324            87.80  544      Devon    CT"
      ]
     },
     "execution_count": 3,
     "metadata": {},
     "output_type": "execute_result"
    }
   ],
   "source": [
    "#Here we are importing the emissions data\n",
    "\n",
    "import requests\n",
    "from bs4 import BeautifulSoup\n",
    "import pandas as pd\n",
    "import numpy as np\n",
    "import time\n",
    "from datetime import date\n",
    "\n",
    "\n",
    "sourceName = []   \n",
    "state = []\n",
    "oris = []\n",
    "emissions = []  \n",
    "opHours = []    \n",
    "dateMonitor = []   \n",
    "pageData = 0\n",
    "maxPage = 0\n",
    "\n",
    "while pageData <= maxPage:\n",
    "\n",
    "    \n",
    "    url = \"https://rggi-coats.org/eats/rggi/index.cfm?hc=IiguXCAK\"\n",
    "\n",
    "    payload = {'fuseaction' : 'reportsV2.quarterly_emissions_rpt_output',\n",
    "    'reporttype' : 'F',\n",
    "    'FILTER_BEGINNING_YEAR' : '2009',\n",
    "    'FILTER_ENDING_YEAR' : '2015',\n",
    "    'FILTER_BEGINNING_QUARTER' : '1',\n",
    "    'FILTER_ENDING_QUARTER' : '4',\n",
    "    'SRC_NUMBER' : '',\n",
    "    'SRC_NAME' : '',\n",
    "    'REGION_ID' : '0',\n",
    "    'page': pageData,\n",
    "    'sourcesselected' : '',\n",
    "    'returnfuseaction' : 'reportsv2.quarterly_emissions_rpt',\n",
    "    'src_id' : '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'\n",
    "    }\n",
    "\n",
    "    #Request the data\n",
    "    r = requests.post(url, payload)\n",
    "\n",
    "    #save the data in a html\n",
    "    with open(\"requests_results.html\", \"w\") as f:\n",
    "\n",
    "        f.write(r.content)\n",
    "\n",
    "    #Open the data with beautiful\n",
    "    plantData = BeautifulSoup(open('requests_results.html'))\n",
    "    \n",
    "    #Find how many pages there is\n",
    "    maxPage = plantData.find_all('span', {'class': \"fuse\"})\n",
    "    for tag in maxPage:\n",
    "        maxPage = tag.find_all('b')\n",
    "        for tag in maxPage:\n",
    "            maxPage = tag.get_text()\n",
    "    maxPage = float(maxPage[-8:-4]) // 100\n",
    "    \n",
    "    \n",
    "    #Clean html\n",
    "    plantData = plantData.find_all('tr', {'valign': \"baseline\"})\n",
    "\n",
    "    lineData= 0\n",
    "    for tag in plantData:\n",
    "        plantData[lineData] = tag.find_all('td')\n",
    "    \n",
    "        columnData = 0\n",
    "        for tag in plantData[lineData]:\n",
    "            plantData[lineData][columnData] = tag.get_text().encode('ascii', 'ignore')\n",
    "            columnData = columnData +1\n",
    "    \n",
    "        lineData = lineData +1\n",
    "\n",
    "\n",
    "    #Organize the data\n",
    "    for i in range (0,len(plantData)):\n",
    "    \n",
    "        #Emissions which we also transform to float\n",
    "        if plantData[i][-4] == 'Not Operating' or plantData[i][-4] == 'No Data':\n",
    "            emissions.append(0)\n",
    "        else:\n",
    "            emissions.append(float(plantData[i][-4].replace(\",\", \"\")))\n",
    "\n",
    "        #opHours which we also transform to float\n",
    "        if plantData[i][-6] == 'Not Operating' or plantData[i][-6] == 'No Data':\n",
    "            opHours.append(0)\n",
    "        else:\n",
    "            opHours.append(float(plantData[i][-6].replace(\",\", \"\")))\n",
    "\n",
    "        #dateMonitor which we also transform to date using year and quarter\n",
    "        dateMonitor.append(date(int(plantData[i][0]),(int(plantData[i][1])-1)*3+1,1))\n",
    "\n",
    "        #sourceName \n",
    "        sourceName.append(plantData[i][2])\n",
    "        \n",
    "        #state \n",
    "        state.append(plantData[i][5])\n",
    "        \n",
    "        #oris \n",
    "        oris.append(plantData[i][3])\n",
    "\n",
    " \n",
    "    pageData = pageData + 1\n",
    "            \n",
    "\n",
    "plantSummary = pd.DataFrame({'Plant_Name': sourceName,\n",
    "                            'Operating_Hours': opHours,\n",
    "                            'State': state,\n",
    "                             'Oris': oris,\n",
    "                            'Emissions': emissions,\n",
    "                            'Date_Monitor': dateMonitor})\n",
    "\n",
    "\n",
    "plantSummary.head()\n"
   ]
  },
  {
   "cell_type": "code",
   "execution_count": 4,
   "metadata": {
    "collapsed": false,
    "scrolled": true
   },
   "outputs": [
    {
     "data": {
      "text/plain": [
       "<matplotlib.axes._subplots.AxesSubplot at 0xdea2390>"
      ]
     },
     "execution_count": 4,
     "metadata": {},
     "output_type": "execute_result"
    },
    {
     "data": {
      "image/png": "[encoded data removed]",
      "text/plain": [
       "<matplotlib.figure.Figure at 0x9cbbe10>"
      ]
     },
     "metadata": {},
     "output_type": "display_data"
    }
   ],
   "source": [
    "#Here we are doing a graph to start vizualising the data\n",
    "\n",
    "import matplotlib.pyplot as plt\n",
    "%matplotlib inline  \n",
    "plantSummary.plot(kind = 'scatter', x = 'Operating_Hours', y = 'Emissions' )"
   ]
  },
  {
   "cell_type": "markdown",
   "metadata": {},
   "source": [
    "*Analysis:*\n",
    "---------\n",
    "This first scatter plot shows what the amount of emissions rejected is per hour operated for different power plants.\n",
    "Several linear regressions could be guessed from this plot. For example, we can imagine that the power plants that emit the most CO2 per hour operated are the Oil plants followed by Coal plants and the gas ones. "
   ]
  },
  {
   "cell_type": "code",
   "execution_count": 8,
   "metadata": {
    "collapsed": false
   },
   "outputs": [
    {
     "data": {
      "text/html": [
       "<div style=\"max-height:1000px;max-width:1500px;overflow:auto;\">\n",
       "<table border=\"1\" class=\"dataframe\">\n",
       "  <thead>\n",
       "    <tr style=\"text-align: right;\">\n",
       "      <th></th>\n",
       "      <th>Emissions</th>\n",
       "      <th>Operating_Hours</th>\n",
       "    </tr>\n",
       "    <tr>\n",
       "      <th>State</th>\n",
       "      <th></th>\n",
       "      <th></th>\n",
       "    </tr>\n",
       "  </thead>\n",
       "  <tbody>\n",
       "    <tr>\n",
       "      <th>NY</th>\n",
       "      <td>2.319458e+08</td>\n",
       "      <td>3067964.20</td>\n",
       "    </tr>\n",
       "    <tr>\n",
       "      <th>MD</th>\n",
       "      <td>1.530360e+08</td>\n",
       "      <td>767824.83</td>\n",
       "    </tr>\n",
       "    <tr>\n",
       "      <th>MA</th>\n",
       "      <td>9.692613e+07</td>\n",
       "      <td>859212.64</td>\n",
       "    </tr>\n",
       "    <tr>\n",
       "      <th>NJ (First Control Period Only)</th>\n",
       "      <td>5.315729e+07</td>\n",
       "      <td>643226.59</td>\n",
       "    </tr>\n",
       "    <tr>\n",
       "      <th>CT</th>\n",
       "      <td>4.316551e+07</td>\n",
       "      <td>474416.03</td>\n",
       "    </tr>\n",
       "    <tr>\n",
       "      <th>NH</th>\n",
       "      <td>3.453993e+07</td>\n",
       "      <td>304834.44</td>\n",
       "    </tr>\n",
       "    <tr>\n",
       "      <th>DE</th>\n",
       "      <td>2.677397e+07</td>\n",
       "      <td>344459.01</td>\n",
       "    </tr>\n",
       "    <tr>\n",
       "      <th>RI</th>\n",
       "      <td>2.114301e+07</td>\n",
       "      <td>281850.88</td>\n",
       "    </tr>\n",
       "    <tr>\n",
       "      <th>ME</th>\n",
       "      <td>1.956083e+07</td>\n",
       "      <td>283441.64</td>\n",
       "    </tr>\n",
       "    <tr>\n",
       "      <th>VT</th>\n",
       "      <td>2.013680e+04</td>\n",
       "      <td>1184.04</td>\n",
       "    </tr>\n",
       "  </tbody>\n",
       "</table>\n",
       "</div>"
      ],
      "text/plain": [
       "                                   Emissions  Operating_Hours\n",
       "State                                                        \n",
       "NY                              2.319458e+08       3067964.20\n",
       "MD                              1.530360e+08        767824.83\n",
       "MA                              9.692613e+07        859212.64\n",
       "NJ (First Control Period Only)  5.315729e+07        643226.59\n",
       "CT                              4.316551e+07        474416.03\n",
       "NH                              3.453993e+07        304834.44\n",
       "DE                              2.677397e+07        344459.01\n",
       "RI                              2.114301e+07        281850.88\n",
       "ME                              1.956083e+07        283441.64\n",
       "VT                              2.013680e+04          1184.04"
      ]
     },
     "execution_count": 8,
     "metadata": {},
     "output_type": "execute_result"
    }
   ],
   "source": [
    "plantSummary.groupby(plantSummary.State).sum().sort('Emissions',ascending=False)"
   ]
  },
  {
   "cell_type": "code",
   "execution_count": 9,
   "metadata": {
    "collapsed": false
   },
   "outputs": [
    {
     "data": {
      "text/html": [
       "<div style=\"max-height:1000px;max-width:1500px;overflow:auto;\">\n",
       "<table border=\"1\" class=\"dataframe\">\n",
       "  <thead>\n",
       "    <tr style=\"text-align: right;\">\n",
       "      <th></th>\n",
       "      <th>Emissions</th>\n",
       "      <th>Operating_Hours</th>\n",
       "    </tr>\n",
       "    <tr>\n",
       "      <th>State</th>\n",
       "      <th></th>\n",
       "      <th></th>\n",
       "    </tr>\n",
       "  </thead>\n",
       "  <tbody>\n",
       "    <tr>\n",
       "      <th>NY</th>\n",
       "      <td>2.319458e+08</td>\n",
       "      <td>3067964.20</td>\n",
       "    </tr>\n",
       "    <tr>\n",
       "      <th>MA</th>\n",
       "      <td>9.692613e+07</td>\n",
       "      <td>859212.64</td>\n",
       "    </tr>\n",
       "    <tr>\n",
       "      <th>MD</th>\n",
       "      <td>1.530360e+08</td>\n",
       "      <td>767824.83</td>\n",
       "    </tr>\n",
       "    <tr>\n",
       "      <th>NJ (First Control Period Only)</th>\n",
       "      <td>5.315729e+07</td>\n",
       "      <td>643226.59</td>\n",
       "    </tr>\n",
       "    <tr>\n",
       "      <th>CT</th>\n",
       "      <td>4.316551e+07</td>\n",
       "      <td>474416.03</td>\n",
       "    </tr>\n",
       "    <tr>\n",
       "      <th>DE</th>\n",
       "      <td>2.677397e+07</td>\n",
       "      <td>344459.01</td>\n",
       "    </tr>\n",
       "    <tr>\n",
       "      <th>NH</th>\n",
       "      <td>3.453993e+07</td>\n",
       "      <td>304834.44</td>\n",
       "    </tr>\n",
       "    <tr>\n",
       "      <th>ME</th>\n",
       "      <td>1.956083e+07</td>\n",
       "      <td>283441.64</td>\n",
       "    </tr>\n",
       "    <tr>\n",
       "      <th>RI</th>\n",
       "      <td>2.114301e+07</td>\n",
       "      <td>281850.88</td>\n",
       "    </tr>\n",
       "    <tr>\n",
       "      <th>VT</th>\n",
       "      <td>2.013680e+04</td>\n",
       "      <td>1184.04</td>\n",
       "    </tr>\n",
       "  </tbody>\n",
       "</table>\n",
       "</div>"
      ],
      "text/plain": [
       "                                   Emissions  Operating_Hours\n",
       "State                                                        \n",
       "NY                              2.319458e+08       3067964.20\n",
       "MA                              9.692613e+07        859212.64\n",
       "MD                              1.530360e+08        767824.83\n",
       "NJ (First Control Period Only)  5.315729e+07        643226.59\n",
       "CT                              4.316551e+07        474416.03\n",
       "DE                              2.677397e+07        344459.01\n",
       "NH                              3.453993e+07        304834.44\n",
       "ME                              1.956083e+07        283441.64\n",
       "RI                              2.114301e+07        281850.88\n",
       "VT                              2.013680e+04          1184.04"
      ]
     },
     "execution_count": 9,
     "metadata": {},
     "output_type": "execute_result"
    }
   ],
   "source": [
    "plantSummary.groupby(plantSummary.State).sum().sort('Operating_Hours',ascending=False)"
   ]
  },
  {
   "cell_type": "markdown",
   "metadata": {},
   "source": [
    "*Analysis:*\n",
    "---------\n",
    "NY is the state where the CO2 emissions is the highest. It si also the stae where operating hours is the highest."
   ]
  },
  {
   "cell_type": "code",
   "execution_count": 10,
   "metadata": {
    "collapsed": false,
    "scrolled": true
   },
   "outputs": [
    {
     "data": {
      "text/html": [
       "<div style=\"max-height:1000px;max-width:1500px;overflow:auto;\">\n",
       "<table border=\"1\" class=\"dataframe\">\n",
       "  <thead>\n",
       "    <tr style=\"text-align: right;\">\n",
       "      <th></th>\n",
       "      <th>Name_Owner</th>\n",
       "      <th>Oris_Code_Owner</th>\n",
       "      <th>Source_Name_Owner</th>\n",
       "    </tr>\n",
       "  </thead>\n",
       "  <tbody>\n",
       "    <tr>\n",
       "      <th>0</th>\n",
       "      <td>New York Power Authority (Owner-Operator)</td>\n",
       "      <td>7910</td>\n",
       "      <td>23rd and 3rd</td>\n",
       "    </tr>\n",
       "    <tr>\n",
       "      <th>1</th>\n",
       "      <td>AG Energy, LP (Owner-Operator)</td>\n",
       "      <td>10803</td>\n",
       "      <td>AG - Energy</td>\n",
       "    </tr>\n",
       "    <tr>\n",
       "      <th>2</th>\n",
       "      <td>Allegany Generating Station (Owner-Operator)</td>\n",
       "      <td>10619</td>\n",
       "      <td>Allegany Station No. 133</td>\n",
       "    </tr>\n",
       "    <tr>\n",
       "      <th>3</th>\n",
       "      <td>NRG Arthur Kill Operations, Inc. (Operator)\\rA...</td>\n",
       "      <td>2490</td>\n",
       "      <td>Arthur Kill</td>\n",
       "    </tr>\n",
       "    <tr>\n",
       "      <th>4</th>\n",
       "      <td>Astoria Energy, LLC (Owner)\\rGDF Suez Energy, ...</td>\n",
       "      <td>55375</td>\n",
       "      <td>Astoria Energy</td>\n",
       "    </tr>\n",
       "  </tbody>\n",
       "</table>\n",
       "</div>"
      ],
      "text/plain": [
       "                                          Name_Owner Oris_Code_Owner  \\\n",
       "0          New York Power Authority (Owner-Operator)            7910   \n",
       "1                     AG Energy, LP (Owner-Operator)           10803   \n",
       "2       Allegany Generating Station (Owner-Operator)           10619   \n",
       "3  NRG Arthur Kill Operations, Inc. (Operator)\\rA...            2490   \n",
       "4  Astoria Energy, LLC (Owner)\\rGDF Suez Energy, ...           55375   \n",
       "\n",
       "          Source_Name_Owner  \n",
       "0              23rd and 3rd  \n",
       "1               AG - Energy  \n",
       "2  Allegany Station No. 133  \n",
       "3               Arthur Kill  \n",
       "4            Astoria Energy  "
      ]
     },
     "execution_count": 10,
     "metadata": {},
     "output_type": "execute_result"
    }
   ],
   "source": [
    "#Here we are importing the owner data\n",
    "\n",
    "stateAll = [2,4,5,6,7,8,9,11,12]\n",
    "sourceNameOwner = []\n",
    "orisOwner = []\n",
    "ownerName = []\n",
    "    \n",
    "for state in stateAll:\n",
    "    \n",
    "    url = \"https://rggi-coats.org/eats/rggi/index.cfm?hc=ISggICAK\"\n",
    "\n",
    "    payload = {'fuseaction' : 'reportsv2.owners_rpt',\n",
    "    'expandFilter' : '1',\n",
    "    'setFilter' : 'true',\n",
    "    'PROG_ID' : state,\n",
    "    }\n",
    "\n",
    "    #Request the data\n",
    "    r = requests.post(url, payload)\n",
    "\n",
    "    #save the data in a html\n",
    "    with open(\"owner_results.html\", \"w\") as f:\n",
    "\n",
    "        f.write(r.content)\n",
    "\n",
    "    #Open the data with beautiful\n",
    "    ownerData = BeautifulSoup(open('owner_results.html'))\n",
    "    \n",
    "    #Clean html\n",
    "    ownerData = ownerData.find_all('tr', {'valign': \"baseline\"})\n",
    "\n",
    "    lineData= 0\n",
    "    for tag in ownerData:\n",
    "        ownerData[lineData] = tag.find_all('td')\n",
    "    \n",
    "        columnData = 0\n",
    "        for tag in ownerData[lineData]:\n",
    "            ownerData[lineData][columnData] = tag.get_text().encode('ascii', 'ignore')\n",
    "            columnData = columnData +1\n",
    "    \n",
    "        lineData = lineData +1\n",
    "\n",
    "    \n",
    "    #Organize the data\n",
    "    for i in range (0,len(ownerData)):\n",
    "    \n",
    "        #sourceName \n",
    "        sourceNameOwner.append(ownerData[i][0])\n",
    "        \n",
    "        #Oris code\n",
    "        orisOwner.append(ownerData[i][2])\n",
    "\n",
    "        #Owner\n",
    "        ownerName.append(ownerData[i][4])\n",
    "        \n",
    "ownerSummary = pd.DataFrame({'Source_Name_Owner': sourceNameOwner,\n",
    "                            'Oris_Code_Owner': orisOwner,\n",
    "                            'Name_Owner': ownerName,\n",
    "                             })\n",
    "\n",
    "\n",
    "ownerSummary.head()\n",
    "\n"
   ]
  },
  {
   "cell_type": "code",
   "execution_count": 11,
   "metadata": {
    "collapsed": false
   },
   "outputs": [],
   "source": [
    "#Here we are merging the two last tables and droping some columns\n",
    "\n",
    "owner_Emission_Summary = pd.merge(plantSummary, ownerSummary, how='inner', \n",
    "               left_on='Oris', right_on='Oris_Code_Owner')\n",
    "owner_Emission_Summary = owner_Emission_Summary.drop(['Source_Name_Owner','Oris_Code_Owner'], axis=1) "
   ]
  },
  {
   "cell_type": "code",
   "execution_count": 12,
   "metadata": {
    "collapsed": false
   },
   "outputs": [
    {
     "data": {
      "text/html": [
       "<div style=\"max-height:1000px;max-width:1500px;overflow:auto;\">\n",
       "<table border=\"1\" class=\"dataframe\">\n",
       "  <thead>\n",
       "    <tr style=\"text-align: right;\">\n",
       "      <th></th>\n",
       "      <th>Date_Monitor</th>\n",
       "      <th>Emissions</th>\n",
       "      <th>Operating_Hours</th>\n",
       "      <th>Oris</th>\n",
       "      <th>Plant_Name</th>\n",
       "      <th>State</th>\n",
       "      <th>Name_Owner</th>\n",
       "    </tr>\n",
       "  </thead>\n",
       "  <tbody>\n",
       "    <tr>\n",
       "      <th>0</th>\n",
       "      <td>2009-01-01</td>\n",
       "      <td>2574.935</td>\n",
       "      <td>89.10</td>\n",
       "      <td>544</td>\n",
       "      <td>Devon</td>\n",
       "      <td>CT</td>\n",
       "      <td>NRG Devon Operations, Inc. (Operator)\\rDevon P...</td>\n",
       "    </tr>\n",
       "    <tr>\n",
       "      <th>1</th>\n",
       "      <td>2009-04-01</td>\n",
       "      <td>589.222</td>\n",
       "      <td>24.69</td>\n",
       "      <td>544</td>\n",
       "      <td>Devon</td>\n",
       "      <td>CT</td>\n",
       "      <td>NRG Devon Operations, Inc. (Operator)\\rDevon P...</td>\n",
       "    </tr>\n",
       "    <tr>\n",
       "      <th>2</th>\n",
       "      <td>2009-07-01</td>\n",
       "      <td>1156.144</td>\n",
       "      <td>48.24</td>\n",
       "      <td>544</td>\n",
       "      <td>Devon</td>\n",
       "      <td>CT</td>\n",
       "      <td>NRG Devon Operations, Inc. (Operator)\\rDevon P...</td>\n",
       "    </tr>\n",
       "    <tr>\n",
       "      <th>3</th>\n",
       "      <td>2009-10-01</td>\n",
       "      <td>4496.612</td>\n",
       "      <td>158.34</td>\n",
       "      <td>544</td>\n",
       "      <td>Devon</td>\n",
       "      <td>CT</td>\n",
       "      <td>NRG Devon Operations, Inc. (Operator)\\rDevon P...</td>\n",
       "    </tr>\n",
       "    <tr>\n",
       "      <th>4</th>\n",
       "      <td>2010-01-01</td>\n",
       "      <td>2445.324</td>\n",
       "      <td>87.80</td>\n",
       "      <td>544</td>\n",
       "      <td>Devon</td>\n",
       "      <td>CT</td>\n",
       "      <td>NRG Devon Operations, Inc. (Operator)\\rDevon P...</td>\n",
       "    </tr>\n",
       "  </tbody>\n",
       "</table>\n",
       "</div>"
      ],
      "text/plain": [
       "  Date_Monitor  Emissions  Operating_Hours Oris Plant_Name State  \\\n",
       "0   2009-01-01   2574.935            89.10  544      Devon    CT   \n",
       "1   2009-04-01    589.222            24.69  544      Devon    CT   \n",
       "2   2009-07-01   1156.144            48.24  544      Devon    CT   \n",
       "3   2009-10-01   4496.612           158.34  544      Devon    CT   \n",
       "4   2010-01-01   2445.324            87.80  544      Devon    CT   \n",
       "\n",
       "                                          Name_Owner  \n",
       "0  NRG Devon Operations, Inc. (Operator)\\rDevon P...  \n",
       "1  NRG Devon Operations, Inc. (Operator)\\rDevon P...  \n",
       "2  NRG Devon Operations, Inc. (Operator)\\rDevon P...  \n",
       "3  NRG Devon Operations, Inc. (Operator)\\rDevon P...  \n",
       "4  NRG Devon Operations, Inc. (Operator)\\rDevon P...  "
      ]
     },
     "execution_count": 12,
     "metadata": {},
     "output_type": "execute_result"
    }
   ],
   "source": [
    "#The data looks clean!\n",
    "owner_Emission_Summary.head()"
   ]
  },
  {
   "cell_type": "code",
   "execution_count": 29,
   "metadata": {
    "collapsed": false
   },
   "outputs": [
    {
     "name": "stdout",
     "output_type": "stream",
     "text": [
      "year  Plant_Name      Name_Owner                                     \n",
      "2010  Morgantown      Genon Mid-Atlantic, LLC (Owner-Operator)           7969125.452\n",
      "2011  Morgantown      Genon Mid-Atlantic, LLC (Owner-Operator)           6895629.344\n",
      "2009  Brayton Point   Brayton Point Energy, LLC (Owner-Operator)         6879086.775\n",
      "      Brandon Shores  Raven Power Fort Smallwood LLC (Owner-Operator)    6860722.390\n",
      "2011  Brandon Shores  Raven Power Fort Smallwood LLC (Owner-Operator)    6610419.074\n",
      "2010  Brayton Point   Brayton Point Energy, LLC (Owner-Operator)         6403811.775\n",
      "2009  Morgantown      Genon Mid-Atlantic, LLC (Owner-Operator)           6382061.111\n",
      "2010  Brandon Shores  Raven Power Fort Smallwood LLC (Owner-Operator)    6329727.781\n",
      "2014  Morgantown      Genon Mid-Atlantic, LLC (Owner-Operator)           6192869.979\n",
      "      Brandon Shores  Raven Power Fort Smallwood LLC (Owner-Operator)    5597267.314\n",
      "Name: Emissions, dtype: float64\n",
      "==================\n",
      "Name_Owner\n",
      "Genon Mid-Atlantic, LLC (Owner-Operator)                                                                                          50002865.465\n",
      "Raven Power Fort Smallwood LLC (Owner-Operator)                                                                                   48787548.416\n",
      "Brayton Point Energy, LLC (Owner-Operator)                                                                                        26675452.950\n",
      "South Maryland Electric Cooperative (Owner)\\rGenon Mid-Atlantic, LLC (Owner-Operator)\\rGenon Chalk Point, LLC (Owner-Operator)    26175002.811\n",
      "National Grid Generation LLC (Owner-Operator)                                                                                     21147137.296\n",
      "Constellation Mystic Power LLC (Owner-Operator)                                                                                   20056754.890\n",
      "Public Service of New Hampshire (Owner-Operator)                                                                                  19046231.960\n",
      "Somerset Operating Company, LLC (Owner-Operator)                                                                                  18427257.528\n",
      "Calpine Mid-Atlantic Generation, LLC (Owner)\\rCalpine Operating Services Company, Inc. (Operator)                                 15495442.894\n",
      "New York Power Authority (Owner-Operator)                                                                                         14198140.686\n",
      "Name: Emissions, dtype: float64\n"
     ]
    }
   ],
   "source": [
    "data = owner_Emission_Summary.groupby(['year','Plant_Name','Name_Owner'])['Emissions'].sum()\n",
    "data.sort('Emissions',ascending=False)\n",
    "print data.head(10)\n",
    "print \"==================\"\n",
    "data = owner_Emission_Summary.groupby(['Name_Owner'])['Emissions'].sum()\n",
    "data.sort('Emissions',ascending=False)\n",
    "print data.head(10)"
   ]
  },
  {
   "cell_type": "markdown",
   "metadata": {},
   "source": [
    "*Analysis:*\n",
    "---------\n",
    "This table shows us what power plants are the biggest emitters and which company operates them.\n",
    "The 2nd table shows us which companies are the biggest emitter."
   ]
  },
  {
   "cell_type": "code",
   "execution_count": 34,
   "metadata": {
    "collapsed": false
   },
   "outputs": [
    {
     "data": {
      "image/png": "[encoded data removed]",
      "text/plain": [
       "<matplotlib.figure.Figure at 0xe31f048>"
      ]
     },
     "metadata": {},
     "output_type": "display_data"
    }
   ],
   "source": [
    "# Now that our entire dataset is ready we can make some more analysis\n",
    "owner_Emission_Summary['year'] = [x.year for x in owner_Emission_Summary.Date_Monitor]\n",
    "data = owner_Emission_Summary.groupby(['State','year'])['Emissions'].sum().unstack('State')\n",
    "ax = data.plot(figsize=(10,10))\n",
    "ax.set_xticklabels(list(data.index))\n",
    "plt.ylabel('Emission [tons]')\n",
    "plt.show()"
   ]
  },
  {
   "cell_type": "markdown",
   "metadata": {
    "collapsed": false
   },
   "source": [
    "*Analysis:*\n",
    "----------\n",
    "This historical plot shows us that emissions have been trending down in the past 7 years. (Note that 2015 data only includes Q1). "
   ]
  },
  {
   "cell_type": "code",
   "execution_count": 30,
   "metadata": {
    "collapsed": false
   },
   "outputs": [],
   "source": [
    "owner_Emission_Summary['Efficiency']=owner_Emission_Summary['Emissions']/owner_Emission_Summary['Operating_Hours']"
   ]
  },
  {
   "cell_type": "code",
   "execution_count": 37,
   "metadata": {
    "collapsed": false,
    "scrolled": true
   },
   "outputs": [
    {
     "data": {
      "image/png": "[encoded data removed]",
      "text/plain": [
       "<matplotlib.figure.Figure at 0xc988b00>"
      ]
     },
     "metadata": {},
     "output_type": "display_data"
    }
   ],
   "source": [
    "owner_Emission_Summary['year'] = [x.year for x in owner_Emission_Summary.Date_Monitor]\n",
    "data = owner_Emission_Summary.groupby(['year'])['Efficiency'].mean()\n",
    "ax = data.plot(figsize=(10,10))\n",
    "ax.set_xticklabels(list(data.index))\n",
    "plt.ylabel('Efficiency [Tons per Hour]')\n",
    "plt.show()"
   ]
  },
  {
   "cell_type": "markdown",
   "metadata": {},
   "source": [
    "*Analysis:*\n",
    "----------\n",
    "This plot show us that the efficiency has also improved (Note that 2015 again only includes Q1)."
   ]
  },
  {
   "cell_type": "markdown",
   "metadata": {},
   "source": [
    "Conclusion:\n",
    "=====\n",
    "Emissions have been reducing and the efficiency has improved which is showing us that the RGGI market has been effective."
   ]
  },
  {
   "cell_type": "code",
   "execution_count": null,
   "metadata": {
    "collapsed": true
   },
   "outputs": [],
   "source": []
  }
 ],
 "metadata": {
  "kernelspec": {
   "display_name": "Python 2",
   "language": "python",
   "name": "python2"
  },
  "language_info": {
   "codemirror_mode": {
    "name": "ipython",
    "version": 2
   },
   "file_extension": ".py",
   "mimetype": "text/x-python",
   "name": "python",
   "nbconvert_exporter": "python",
   "pygments_lexer": "ipython2",
   "version": "2.7.9"
  }
 },
 "nbformat": 4,
 "nbformat_minor": 0
}
