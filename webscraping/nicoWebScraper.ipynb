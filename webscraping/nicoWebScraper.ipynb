{
 "cells": [
  {
   "cell_type": "code",
   "execution_count": 5,
   "metadata": {
    "collapsed": false,
    "scrolled": true
   },
   "outputs": [
    {
     "data": {
      "text/html": [
       "<div style=\"max-height:1000px;max-width:1500px;overflow:auto;\">\n",
       "<table border=\"1\" class=\"dataframe\">\n",
       "  <thead>\n",
       "    <tr style=\"text-align: right;\">\n",
       "      <th></th>\n",
       "      <th>Date_Monitor</th>\n",
       "      <th>Emissions</th>\n",
       "      <th>Operating_Hours</th>\n",
       "      <th>Oris</th>\n",
       "      <th>Plant_Name</th>\n",
       "      <th>State</th>\n",
       "    </tr>\n",
       "  </thead>\n",
       "  <tbody>\n",
       "    <tr>\n",
       "      <th>0</th>\n",
       "      <td>2009-01-01</td>\n",
       "      <td>2574.935</td>\n",
       "      <td>89.10</td>\n",
       "      <td>544</td>\n",
       "      <td>Devon</td>\n",
       "      <td>CT</td>\n",
       "    </tr>\n",
       "    <tr>\n",
       "      <th>1</th>\n",
       "      <td>2009-04-01</td>\n",
       "      <td>589.222</td>\n",
       "      <td>24.69</td>\n",
       "      <td>544</td>\n",
       "      <td>Devon</td>\n",
       "      <td>CT</td>\n",
       "    </tr>\n",
       "    <tr>\n",
       "      <th>2</th>\n",
       "      <td>2009-07-01</td>\n",
       "      <td>1156.144</td>\n",
       "      <td>48.24</td>\n",
       "      <td>544</td>\n",
       "      <td>Devon</td>\n",
       "      <td>CT</td>\n",
       "    </tr>\n",
       "    <tr>\n",
       "      <th>3</th>\n",
       "      <td>2009-10-01</td>\n",
       "      <td>4496.612</td>\n",
       "      <td>158.34</td>\n",
       "      <td>544</td>\n",
       "      <td>Devon</td>\n",
       "      <td>CT</td>\n",
       "    </tr>\n",
       "    <tr>\n",
       "      <th>4</th>\n",
       "      <td>2010-01-01</td>\n",
       "      <td>2445.324</td>\n",
       "      <td>87.80</td>\n",
       "      <td>544</td>\n",
       "      <td>Devon</td>\n",
       "      <td>CT</td>\n",
       "    </tr>\n",
       "  </tbody>\n",
       "</table>\n",
       "</div>"
      ],
      "text/plain": [
       "  Date_Monitor  Emissions  Operating_Hours Oris Plant_Name State\n",
       "0   2009-01-01   2574.935            89.10  544      Devon    CT\n",
       "1   2009-04-01    589.222            24.69  544      Devon    CT\n",
       "2   2009-07-01   1156.144            48.24  544      Devon    CT\n",
       "3   2009-10-01   4496.612           158.34  544      Devon    CT\n",
       "4   2010-01-01   2445.324            87.80  544      Devon    CT"
      ]
     },
     "execution_count": 5,
     "metadata": {},
     "output_type": "execute_result"
    }
   ],
   "source": [
    "#Here we are importing the emissions data\n",
    "\n",
    "import requests\n",
    "from bs4 import BeautifulSoup\n",
    "import pandas as pd\n",
    "import numpy as np\n",
    "import time\n",
    "from datetime import date\n",
    "\n",
    "\n",
    "sourceName = []   \n",
    "state = []\n",
    "oris = []\n",
    "emissions = []  \n",
    "opHours = []    \n",
    "dateMonitor = []   \n",
    "pageData = 0\n",
    "maxPage = 0\n",
    "\n",
    "while pageData <= maxPage:\n",
    "\n",
    "    \n",
    "    url = \"https://rggi-coats.org/eats/rggi/index.cfm?hc=IiguXCAK\"\n",
    "\n",
    "    payload = {'fuseaction' : 'reportsV2.quarterly_emissions_rpt_output',\n",
    "    'reporttype' : 'F',\n",
    "    'FILTER_BEGINNING_YEAR' : '2009',\n",
    "    'FILTER_ENDING_YEAR' : '2015',\n",
    "    'FILTER_BEGINNING_QUARTER' : '1',\n",
    "    'FILTER_ENDING_QUARTER' : '4',\n",
    "    'SRC_NUMBER' : '',\n",
    "    'SRC_NAME' : '',\n",
    "    'REGION_ID' : '0',\n",
    "    'page': pageData,\n",
    "    'sourcesselected' : '',\n",
    "    'returnfuseaction' : 'reportsv2.quarterly_emissions_rpt',\n",
    "    'src_id' : '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'\n",
    "    }\n",
    "\n",
    "    #Request the data\n",
    "    r = requests.post(url, payload)\n",
    "\n",
    "    #save the data in a html\n",
    "    with open(\"requests_results.html\", \"w\") as f:\n",
    "\n",
    "        f.write(r.content)\n",
    "\n",
    "    #Open the data with beautiful\n",
    "    plantData = BeautifulSoup(open('requests_results.html'))\n",
    "    \n",
    "    #Find how many pages there is\n",
    "    maxPage = plantData.find_all('span', {'class': \"fuse\"})\n",
    "    for tag in maxPage:\n",
    "        maxPage = tag.find_all('b')\n",
    "        for tag in maxPage:\n",
    "            maxPage = tag.get_text()\n",
    "    maxPage = float(maxPage[-8:-4]) // 100\n",
    "    \n",
    "    \n",
    "    #Clean html\n",
    "    plantData = plantData.find_all('tr', {'valign': \"baseline\"})\n",
    "\n",
    "    lineData= 0\n",
    "    for tag in plantData:\n",
    "        plantData[lineData] = tag.find_all('td')\n",
    "    \n",
    "        columnData = 0\n",
    "        for tag in plantData[lineData]:\n",
    "            plantData[lineData][columnData] = tag.get_text().encode('ascii', 'ignore')\n",
    "            columnData = columnData +1\n",
    "    \n",
    "        lineData = lineData +1\n",
    "\n",
    "\n",
    "    #Organize the data\n",
    "    for i in range (0,len(plantData)):\n",
    "    \n",
    "        #Emissions which we also transform to float\n",
    "        if plantData[i][-4] == 'Not Operating' or plantData[i][-4] == 'No Data':\n",
    "            emissions.append(0)\n",
    "        else:\n",
    "            emissions.append(float(plantData[i][-4].replace(\",\", \"\")))\n",
    "\n",
    "        #opHours which we also transform to float\n",
    "        if plantData[i][-6] == 'Not Operating' or plantData[i][-6] == 'No Data':\n",
    "            opHours.append(0)\n",
    "        else:\n",
    "            opHours.append(float(plantData[i][-6].replace(\",\", \"\")))\n",
    "\n",
    "        #dateMonitor which we also transform to date using year and quarter\n",
    "        dateMonitor.append(date(int(plantData[i][0]),(int(plantData[i][1])-1)*3+1,1))\n",
    "\n",
    "        #sourceName \n",
    "        sourceName.append(plantData[i][2])\n",
    "        \n",
    "        #state \n",
    "        state.append(plantData[i][5])\n",
    "        \n",
    "        #oris \n",
    "        oris.append(plantData[i][3])\n",
    "\n",
    " \n",
    "    pageData = pageData + 1\n",
    "            \n",
    "\n",
    "plantSummary = pd.DataFrame({'Plant_Name': sourceName,\n",
    "                            'Operating_Hours': opHours,\n",
    "                            'State': state,\n",
    "                             'Oris': oris,\n",
    "                            'Emissions': emissions,\n",
    "                            'Date_Monitor': dateMonitor})\n",
    "\n",
    "\n",
    "plantSummary.head()\n"
   ]
  },
  {
   "cell_type": "code",
   "execution_count": 6,
   "metadata": {
    "collapsed": false,
    "scrolled": true
   },
   "outputs": [
    {
     "data": {
      "text/plain": [
       "<matplotlib.axes._subplots.AxesSubplot at 0xc90f748>"
      ]
     },
     "execution_count": 6,
     "metadata": {},
     "output_type": "execute_result"
    },
    {
     "data": {
      "image/png": "[encoded data removed]",
      "text/plain": [
       "<matplotlib.figure.Figure at 0xc90f208>"
      ]
     },
     "metadata": {},
     "output_type": "display_data"
    }
   ],
   "source": [
    "#Here we are doing a graph to start vizualising the data\n",
    "\n",
    "import matplotlib.pyplot as plt\n",
    "%matplotlib inline  \n",
    "plantSummary.plot(kind = 'scatter', x = 'Operating_Hours', y = 'Emissions' )"
   ]
  },
  {
   "cell_type": "code",
   "execution_count": 7,
   "metadata": {
    "collapsed": false
   },
   "outputs": [
    {
     "data": {
      "text/html": [
       "<div style=\"max-height:1000px;max-width:1500px;overflow:auto;\">\n",
       "<table border=\"1\" class=\"dataframe\">\n",
       "  <thead>\n",
       "    <tr style=\"text-align: right;\">\n",
       "      <th></th>\n",
       "      <th>Emissions</th>\n",
       "      <th>Operating_Hours</th>\n",
       "    </tr>\n",
       "    <tr>\n",
       "      <th>State</th>\n",
       "      <th></th>\n",
       "      <th></th>\n",
       "    </tr>\n",
       "  </thead>\n",
       "  <tbody>\n",
       "    <tr>\n",
       "      <th>NY</th>\n",
       "      <td>2.229665e+08</td>\n",
       "      <td>2965151.21</td>\n",
       "    </tr>\n",
       "    <tr>\n",
       "      <th>MD</th>\n",
       "      <td>1.512589e+08</td>\n",
       "      <td>759258.86</td>\n",
       "    </tr>\n",
       "    <tr>\n",
       "      <th>MA</th>\n",
       "      <td>9.607211e+07</td>\n",
       "      <td>848833.77</td>\n",
       "    </tr>\n",
       "    <tr>\n",
       "      <th>NJ (First Control Period Only)</th>\n",
       "      <td>5.315729e+07</td>\n",
       "      <td>643226.59</td>\n",
       "    </tr>\n",
       "    <tr>\n",
       "      <th>CT</th>\n",
       "      <td>4.316031e+07</td>\n",
       "      <td>473015.45</td>\n",
       "    </tr>\n",
       "    <tr>\n",
       "      <th>NH</th>\n",
       "      <td>3.399438e+07</td>\n",
       "      <td>299951.68</td>\n",
       "    </tr>\n",
       "    <tr>\n",
       "      <th>DE</th>\n",
       "      <td>2.610292e+07</td>\n",
       "      <td>333965.39</td>\n",
       "    </tr>\n",
       "    <tr>\n",
       "      <th>RI</th>\n",
       "      <td>2.063195e+07</td>\n",
       "      <td>274978.84</td>\n",
       "    </tr>\n",
       "    <tr>\n",
       "      <th>ME</th>\n",
       "      <td>1.955019e+07</td>\n",
       "      <td>283177.66</td>\n",
       "    </tr>\n",
       "    <tr>\n",
       "      <th>VT</th>\n",
       "      <td>2.013680e+04</td>\n",
       "      <td>1184.04</td>\n",
       "    </tr>\n",
       "  </tbody>\n",
       "</table>\n",
       "</div>"
      ],
      "text/plain": [
       "                                   Emissions  Operating_Hours\n",
       "State                                                        \n",
       "NY                              2.229665e+08       2965151.21\n",
       "MD                              1.512589e+08        759258.86\n",
       "MA                              9.607211e+07        848833.77\n",
       "NJ (First Control Period Only)  5.315729e+07        643226.59\n",
       "CT                              4.316031e+07        473015.45\n",
       "NH                              3.399438e+07        299951.68\n",
       "DE                              2.610292e+07        333965.39\n",
       "RI                              2.063195e+07        274978.84\n",
       "ME                              1.955019e+07        283177.66\n",
       "VT                              2.013680e+04          1184.04"
      ]
     },
     "execution_count": 7,
     "metadata": {},
     "output_type": "execute_result"
    }
   ],
   "source": [
    "plantSummary.groupby(plantSummary.State).sum().sort('Emissions',ascending=False)"
   ]
  },
  {
   "cell_type": "code",
   "execution_count": 8,
   "metadata": {
    "collapsed": false,
    "scrolled": false
   },
   "outputs": [
    {
     "data": {
      "text/html": [
       "<div style=\"max-height:1000px;max-width:1500px;overflow:auto;\">\n",
       "<table border=\"1\" class=\"dataframe\">\n",
       "  <thead>\n",
       "    <tr style=\"text-align: right;\">\n",
       "      <th></th>\n",
       "      <th>Name_Owner</th>\n",
       "      <th>Oris_Code_Owner</th>\n",
       "      <th>Source_Name_Owner</th>\n",
       "    </tr>\n",
       "  </thead>\n",
       "  <tbody>\n",
       "    <tr>\n",
       "      <th>0</th>\n",
       "      <td>New York Power Authority (Owner-Operator)</td>\n",
       "      <td>7910</td>\n",
       "      <td>23rd and 3rd</td>\n",
       "    </tr>\n",
       "    <tr>\n",
       "      <th>1</th>\n",
       "      <td>AG Energy, LP (Owner-Operator)</td>\n",
       "      <td>10803</td>\n",
       "      <td>AG - Energy</td>\n",
       "    </tr>\n",
       "    <tr>\n",
       "      <th>2</th>\n",
       "      <td>Allegany Generating Station (Owner-Operator)</td>\n",
       "      <td>10619</td>\n",
       "      <td>Allegany Station No. 133</td>\n",
       "    </tr>\n",
       "    <tr>\n",
       "      <th>3</th>\n",
       "      <td>NRG Arthur Kill Operations, Inc. (Operator)\\rA...</td>\n",
       "      <td>2490</td>\n",
       "      <td>Arthur Kill</td>\n",
       "    </tr>\n",
       "    <tr>\n",
       "      <th>4</th>\n",
       "      <td>Astoria Energy, LLC (Owner)\\rGDF Suez Energy, ...</td>\n",
       "      <td>55375</td>\n",
       "      <td>Astoria Energy</td>\n",
       "    </tr>\n",
       "  </tbody>\n",
       "</table>\n",
       "</div>"
      ],
      "text/plain": [
       "                                          Name_Owner Oris_Code_Owner  \\\n",
       "0          New York Power Authority (Owner-Operator)            7910   \n",
       "1                     AG Energy, LP (Owner-Operator)           10803   \n",
       "2       Allegany Generating Station (Owner-Operator)           10619   \n",
       "3  NRG Arthur Kill Operations, Inc. (Operator)\\rA...            2490   \n",
       "4  Astoria Energy, LLC (Owner)\\rGDF Suez Energy, ...           55375   \n",
       "\n",
       "          Source_Name_Owner  \n",
       "0              23rd and 3rd  \n",
       "1               AG - Energy  \n",
       "2  Allegany Station No. 133  \n",
       "3               Arthur Kill  \n",
       "4            Astoria Energy  "
      ]
     },
     "execution_count": 8,
     "metadata": {},
     "output_type": "execute_result"
    }
   ],
   "source": [
    "#Here we are importing the owner data\n",
    "\n",
    "stateAll = [2,4,5,6,7,8,9,11,12]\n",
    "sourceNameOwner = []\n",
    "orisOwner = []\n",
    "ownerName = []\n",
    "    \n",
    "for state in stateAll:\n",
    "    \n",
    "    url = \"https://rggi-coats.org/eats/rggi/index.cfm?hc=ISggICAK\"\n",
    "\n",
    "    payload = {'fuseaction' : 'reportsv2.owners_rpt',\n",
    "    'expandFilter' : '1',\n",
    "    'setFilter' : 'true',\n",
    "    'PROG_ID' : state,\n",
    "    }\n",
    "\n",
    "    #Request the data\n",
    "    r = requests.post(url, payload)\n",
    "\n",
    "    #save the data in a html\n",
    "    with open(\"owner_results.html\", \"w\") as f:\n",
    "\n",
    "        f.write(r.content)\n",
    "\n",
    "    #Open the data with beautiful\n",
    "    ownerData = BeautifulSoup(open('owner_results.html'))\n",
    "    \n",
    "    #Clean html\n",
    "    ownerData = ownerData.find_all('tr', {'valign': \"baseline\"})\n",
    "\n",
    "    lineData= 0\n",
    "    for tag in ownerData:\n",
    "        ownerData[lineData] = tag.find_all('td')\n",
    "    \n",
    "        columnData = 0\n",
    "        for tag in ownerData[lineData]:\n",
    "            ownerData[lineData][columnData] = tag.get_text().encode('ascii', 'ignore')\n",
    "            columnData = columnData +1\n",
    "    \n",
    "        lineData = lineData +1\n",
    "\n",
    "    \n",
    "    #Organize the data\n",
    "    for i in range (0,len(ownerData)):\n",
    "    \n",
    "        #sourceName \n",
    "        sourceNameOwner.append(ownerData[i][0])\n",
    "        \n",
    "        #Oris code\n",
    "        orisOwner.append(ownerData[i][2])\n",
    "\n",
    "        #Owner\n",
    "        ownerName.append(ownerData[i][4])\n",
    "        \n",
    "ownerSummary = pd.DataFrame({'Source_Name_Owner': sourceNameOwner,\n",
    "                            'Oris_Code_Owner': orisOwner,\n",
    "                            'Name_Owner': ownerName,\n",
    "                             })\n",
    "\n",
    "\n",
    "ownerSummary.head()\n",
    "\n"
   ]
  },
  {
   "cell_type": "code",
   "execution_count": 10,
   "metadata": {
    "collapsed": false
   },
   "outputs": [],
   "source": [
    "#Here we are merging the two last tables and droping some columns\n",
    "\n",
    "owner_Emission_Summary = pd.merge(plantSummary, ownerSummary, how='inner', \n",
    "               left_on='Oris', right_on='Oris_Code_Owner')\n",
    "owner_Emission_Summary = owner_Emission_Summary.drop(['Source_Name_Owner','Oris_Code_Owner'], axis=1) "
   ]
  },
  {
   "cell_type": "code",
   "execution_count": 11,
   "metadata": {
    "collapsed": false
   },
   "outputs": [
    {
     "data": {
      "text/html": [
       "<div style=\"max-height:1000px;max-width:1500px;overflow:auto;\">\n",
       "<table border=\"1\" class=\"dataframe\">\n",
       "  <thead>\n",
       "    <tr style=\"text-align: right;\">\n",
       "      <th></th>\n",
       "      <th>Date_Monitor</th>\n",
       "      <th>Emissions</th>\n",
       "      <th>Operating_Hours</th>\n",
       "      <th>Oris</th>\n",
       "      <th>Plant_Name</th>\n",
       "      <th>State</th>\n",
       "      <th>Name_Owner</th>\n",
       "    </tr>\n",
       "  </thead>\n",
       "  <tbody>\n",
       "    <tr>\n",
       "      <th>0</th>\n",
       "      <td>2009-01-01</td>\n",
       "      <td>2574.935</td>\n",
       "      <td>89.10</td>\n",
       "      <td>544</td>\n",
       "      <td>Devon</td>\n",
       "      <td>CT</td>\n",
       "      <td>NRG Devon Operations, Inc. (Operator)\\rDevon P...</td>\n",
       "    </tr>\n",
       "    <tr>\n",
       "      <th>1</th>\n",
       "      <td>2009-04-01</td>\n",
       "      <td>589.222</td>\n",
       "      <td>24.69</td>\n",
       "      <td>544</td>\n",
       "      <td>Devon</td>\n",
       "      <td>CT</td>\n",
       "      <td>NRG Devon Operations, Inc. (Operator)\\rDevon P...</td>\n",
       "    </tr>\n",
       "    <tr>\n",
       "      <th>2</th>\n",
       "      <td>2009-07-01</td>\n",
       "      <td>1156.144</td>\n",
       "      <td>48.24</td>\n",
       "      <td>544</td>\n",
       "      <td>Devon</td>\n",
       "      <td>CT</td>\n",
       "      <td>NRG Devon Operations, Inc. (Operator)\\rDevon P...</td>\n",
       "    </tr>\n",
       "    <tr>\n",
       "      <th>3</th>\n",
       "      <td>2009-10-01</td>\n",
       "      <td>4496.612</td>\n",
       "      <td>158.34</td>\n",
       "      <td>544</td>\n",
       "      <td>Devon</td>\n",
       "      <td>CT</td>\n",
       "      <td>NRG Devon Operations, Inc. (Operator)\\rDevon P...</td>\n",
       "    </tr>\n",
       "    <tr>\n",
       "      <th>4</th>\n",
       "      <td>2010-01-01</td>\n",
       "      <td>2445.324</td>\n",
       "      <td>87.80</td>\n",
       "      <td>544</td>\n",
       "      <td>Devon</td>\n",
       "      <td>CT</td>\n",
       "      <td>NRG Devon Operations, Inc. (Operator)\\rDevon P...</td>\n",
       "    </tr>\n",
       "  </tbody>\n",
       "</table>\n",
       "</div>"
      ],
      "text/plain": [
       "  Date_Monitor  Emissions  Operating_Hours Oris Plant_Name State  \\\n",
       "0   2009-01-01   2574.935            89.10  544      Devon    CT   \n",
       "1   2009-04-01    589.222            24.69  544      Devon    CT   \n",
       "2   2009-07-01   1156.144            48.24  544      Devon    CT   \n",
       "3   2009-10-01   4496.612           158.34  544      Devon    CT   \n",
       "4   2010-01-01   2445.324            87.80  544      Devon    CT   \n",
       "\n",
       "                                          Name_Owner  \n",
       "0  NRG Devon Operations, Inc. (Operator)\\rDevon P...  \n",
       "1  NRG Devon Operations, Inc. (Operator)\\rDevon P...  \n",
       "2  NRG Devon Operations, Inc. (Operator)\\rDevon P...  \n",
       "3  NRG Devon Operations, Inc. (Operator)\\rDevon P...  \n",
       "4  NRG Devon Operations, Inc. (Operator)\\rDevon P...  "
      ]
     },
     "execution_count": 11,
     "metadata": {},
     "output_type": "execute_result"
    }
   ],
   "source": [
    "#The data looks clean!\n",
    "owner_Emission_Summary.head()"
   ]
  },
  {
   "cell_type": "code",
   "execution_count": 16,
   "metadata": {
    "collapsed": false
   },
   "outputs": [
    {
     "data": {
      "text/plain": [
       "<matplotlib.axes._subplots.AxesSubplot at 0xc36be10>"
      ]
     },
     "execution_count": 16,
     "metadata": {},
     "output_type": "execute_result"
    },
    {
     "data": {
      "image/png": "[encoded data removed]",
      "text/plain": [
       "<matplotlib.figure.Figure at 0xd7c7c18>"
      ]
     },
     "metadata": {},
     "output_type": "display_data"
    }
   ],
   "source": [
    "#Now we can do some more vizualisation to impress people :) wowwww\n",
    "\n",
    "pd.options.display.float_format = '{:20,.2f}'.format\n",
    "owner_Emission_Summary.plot(kind = 'scatter', x = 'Operating_Hours', y = 'Emissions', title=\"Emissions in Tons per Hour operating\" )\n"
   ]
  },
  {
   "cell_type": "code",
   "execution_count": null,
   "metadata": {
    "collapsed": false
   },
   "outputs": [],
   "source": [
    "#How did emissions evolve?\n",
    "owner_Emission_Summary.groupby(['State',owner_Emission_Summary['Date_Monitor'].map(lambda x: x.year)])[['Emissions']].sum().unstack('State').plot(y = 'Emissions',xticks=['2009','2010','2011','2012','2013','2014','2015'])\n",
    "plt.legend(loc=2)"
   ]
  },
  {
   "cell_type": "code",
   "execution_count": 109,
   "metadata": {
    "collapsed": false
   },
   "outputs": [],
   "source": [
    "owner_Emission_Summary['Efficiency']=owner_Emission_Summary['Emissions']/owner_Emission_Summary['Operating_Hours']"
   ]
  },
  {
   "cell_type": "code",
   "execution_count": 234,
   "metadata": {
    "collapsed": false,
    "scrolled": true
   },
   "outputs": [
    {
     "ename": "KeyError",
     "evalue": "'Columns not found: 607468954.17700005'",
     "output_type": "error",
     "traceback": [
      "\u001b[1;31m---------------------------------------------------------------------------\u001b[0m",
      "\u001b[1;31mKeyError\u001b[0m                                  Traceback (most recent call last)",
      "\u001b[1;32m<ipython-input-234-caa662cfeb99>\u001b[0m in \u001b[0;36m<module>\u001b[1;34m()\u001b[0m\n\u001b[1;32m----> 1\u001b[1;33m \u001b[0mowner_Emission_Summary\u001b[0m\u001b[1;33m.\u001b[0m\u001b[0mgroupby\u001b[0m\u001b[1;33m(\u001b[0m\u001b[1;33m[\u001b[0m\u001b[0mowner_Emission_Summary\u001b[0m\u001b[1;33m[\u001b[0m\u001b[1;34m'Date_Monitor'\u001b[0m\u001b[1;33m]\u001b[0m\u001b[1;33m.\u001b[0m\u001b[0mmap\u001b[0m\u001b[1;33m(\u001b[0m\u001b[1;32mlambda\u001b[0m \u001b[0mx\u001b[0m\u001b[1;33m:\u001b[0m \u001b[0mx\u001b[0m\u001b[1;33m.\u001b[0m\u001b[0myear\u001b[0m\u001b[1;33m)\u001b[0m\u001b[1;33m,\u001b[0m\u001b[1;34m'Plant_Name'\u001b[0m\u001b[1;33m]\u001b[0m\u001b[1;33m)\u001b[0m\u001b[1;33m[\u001b[0m\u001b[1;33m[\u001b[0m\u001b[0mowner_Emission_Summary\u001b[0m\u001b[1;33m.\u001b[0m\u001b[0mEmissions\u001b[0m\u001b[1;33m.\u001b[0m\u001b[0msum\u001b[0m\u001b[1;33m(\u001b[0m\u001b[1;33m)\u001b[0m\u001b[1;33m]\u001b[0m\u001b[1;33m]\u001b[0m\u001b[1;33m.\u001b[0m\u001b[0msort\u001b[0m\u001b[1;33m(\u001b[0m\u001b[1;34m'Emissions'\u001b[0m\u001b[1;33m,\u001b[0m\u001b[0mascending\u001b[0m\u001b[1;33m=\u001b[0m\u001b[0mFalse\u001b[0m\u001b[1;33m)\u001b[0m\u001b[1;33m\u001b[0m\u001b[0m\n\u001b[0m",
      "\u001b[1;32mC:\\Users\\nicogirod\\Anaconda\\lib\\site-packages\\pandas\\core\\groupby.pyc\u001b[0m in \u001b[0;36m__getitem__\u001b[1;34m(self, key)\u001b[0m\n\u001b[0;32m   3168\u001b[0m                 \u001b[0mbad_keys\u001b[0m \u001b[1;33m=\u001b[0m \u001b[0mlist\u001b[0m\u001b[1;33m(\u001b[0m\u001b[0mset\u001b[0m\u001b[1;33m(\u001b[0m\u001b[0mkey\u001b[0m\u001b[1;33m)\u001b[0m\u001b[1;33m.\u001b[0m\u001b[0mdifference\u001b[0m\u001b[1;33m(\u001b[0m\u001b[0mself\u001b[0m\u001b[1;33m.\u001b[0m\u001b[0mobj\u001b[0m\u001b[1;33m.\u001b[0m\u001b[0mcolumns\u001b[0m\u001b[1;33m)\u001b[0m\u001b[1;33m)\u001b[0m\u001b[1;33m\u001b[0m\u001b[0m\n\u001b[0;32m   3169\u001b[0m                 raise KeyError(\"Columns not found: %s\"\n\u001b[1;32m-> 3170\u001b[1;33m                                % str(bad_keys)[1:-1])\n\u001b[0m\u001b[0;32m   3171\u001b[0m             return DataFrameGroupBy(self.obj, self.grouper, selection=key,\n\u001b[0;32m   3172\u001b[0m                                     \u001b[0mgrouper\u001b[0m\u001b[1;33m=\u001b[0m\u001b[0mself\u001b[0m\u001b[1;33m.\u001b[0m\u001b[0mgrouper\u001b[0m\u001b[1;33m,\u001b[0m\u001b[1;33m\u001b[0m\u001b[0m\n",
      "\u001b[1;31mKeyError\u001b[0m: 'Columns not found: 607468954.17700005'"
     ]
    }
   ],
   "source": [
    "owner_Emission_Summary.groupby([owner_Emission_Summary['Date_Monitor'].map(lambda x: x.year),'Plant_Name'])[[Emissions'.sum()]].sort('Emissions',ascending=False)"
   ]
  }
 ],
 "metadata": {
  "kernelspec": {
   "display_name": "Python 2",
   "language": "python",
   "name": "python2"
  },
  "language_info": {
   "codemirror_mode": {
    "name": "ipython",
    "version": 2
   },
   "file_extension": ".py",
   "mimetype": "text/x-python",
   "name": "python",
   "nbconvert_exporter": "python",
   "pygments_lexer": "ipython2",
   "version": "2.7.9"
  }
 },
 "nbformat": 4,
 "nbformat_minor": 0
}
