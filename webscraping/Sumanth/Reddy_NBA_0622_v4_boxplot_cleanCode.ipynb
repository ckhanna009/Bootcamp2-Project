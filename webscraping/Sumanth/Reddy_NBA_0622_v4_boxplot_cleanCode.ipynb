{
 "cells": [
  {
   "cell_type": "code",
   "execution_count": null,
   "metadata": {
    "collapsed": true
   },
   "outputs": [],
   "source": [
    "#TO DO\n",
    "#1 - change 'MP' so that the boxplot understands the value...XX:XX isnt a valid float\n",
    "#2 - add boxplot label and title and other graph properties\n",
    "#3 - automatically loop through and populate the players web-scrap and data-frame creation\n",
    "#4 - different boxplots\n",
    "\n",
    "#optional\n",
    "#5 - 4-d scatter plot....feature1,feature2,feature3 = [x,y,z] and have W-L as color\n",
    "#6 - logistic regression"
   ]
  },
  {
   "cell_type": "code",
   "execution_count": 137,
   "metadata": {
    "collapsed": false
   },
   "outputs": [
    {
     "name": "stdout",
     "output_type": "stream",
     "text": [
      "Populating the interactive namespace from numpy and matplotlib\n"
     ]
    },
    {
     "name": "stderr",
     "output_type": "stream",
     "text": [
      "WARNING: pylab import has clobbered these variables: ['short', 'text']\n",
      "`%matplotlib` prevents importing * from pylab and numpy\n"
     ]
    }
   ],
   "source": [
    "from bs4 import BeautifulSoup\n",
    "import requests\n",
    "import pandas as pd\n",
    "import numpy as np\n",
    "\n",
    "import matplotlib.pyplot as plt\n",
    "import seaborn as sns\n",
    "\n",
    "#working with sql database and sql queries inside python\n",
    "from sqlalchemy import create_engine\n",
    "#needed to convert unicode to numeric\n",
    "import unicodedata\n",
    "\n",
    "%pylab inline"
   ]
  },
  {
   "cell_type": "code",
   "execution_count": 138,
   "metadata": {
    "collapsed": false
   },
   "outputs": [],
   "source": [
    "lov = 'http://www.basketball-reference.com/players/l/loveke01/gamelog/2015/'\n",
    "kyr = 'http://www.basketball-reference.com/players/i/irvinky01/gamelog/2015/'\n",
    "leb = 'http://www.basketball-reference.com/players/j/jamesle01/gamelog/2015/'"
   ]
  },
  {
   "cell_type": "code",
   "execution_count": 139,
   "metadata": {
    "collapsed": false
   },
   "outputs": [],
   "source": [
    "player_string_key = leb\n",
    "\n",
    "req = requests.get(player_string_key)\n",
    "\n",
    "text = BeautifulSoup(req.text, \"html.parser\")\n",
    "\n",
    "stats = text.find('table', {'id': 'pgl_basic'})\n",
    "\n",
    "#print stats"
   ]
  },
  {
   "cell_type": "code",
   "execution_count": 140,
   "metadata": {
    "collapsed": false
   },
   "outputs": [],
   "source": [
    "# find the schema\n",
    "cols = [i.get_text() for i in stats.thead.find_all('th')]  \n",
    "\n",
    "# convert from unicode to string\n",
    "cols = [x.encode('UTF8') for x in cols]                    \n",
    "\n",
    "#these are schema with empty string names\n",
    "cols[5]='something'\n",
    "cols[7]='something2'\n",
    "\n",
    "# get rows\n",
    "rows = [i.get_text().split('\\n') for i in stats.tbody.find_all('tr')] \n",
    "\n",
    "# convert rows to strings\n",
    "for i in rows:\n",
    "    rows[0] = [x.encode('UTF8') for x in i]                          \n",
    "\n",
    "    \n",
    "rows=rows[1:-1]\n",
    "\n",
    "\n",
    "short = []\n",
    "\n",
    "for i in range(len(rows)):\n",
    "    if len(rows[i]) < 31:\n",
    "        short.append(i)\n",
    "        \n",
    "new_rows = []\n",
    "\n",
    "for i in range(len(rows)):\n",
    "    if i in short:\n",
    "        continue\n",
    "    else:\n",
    "        new_rows.append(rows[i])\n",
    "\n",
    "l = range(len(new_rows))\n",
    "\n",
    "######\n",
    "#change df name - lebron, love, etc....needs to part of automation\n",
    "######\n",
    "lebron = pd.DataFrame(columns=cols, index = l)    # create dataframe with schema\n",
    "\n",
    "for i in l:\n",
    "    try:\n",
    "        # the split function was adding an empty string to the front and end of each row, needed to be removed\n",
    "        new_rows[i]=new_rows[i][1:-1]  \n",
    "    except ValueError:\n",
    "        continue\n",
    "for i in l:\n",
    "    try:\n",
    "        lebron.loc[i]=new_rows[i]\n",
    "    except ValueError:\n",
    "        continue\n",
    "        "
   ]
  },
  {
   "cell_type": "code",
   "execution_count": 141,
   "metadata": {
    "collapsed": false
   },
   "outputs": [],
   "source": [
    "#clean up data\n",
    "#remove rows that contain the schema names\n",
    "#example\n",
    "#print love.head(25)\n",
    "\n",
    "#SQL \n",
    "#Create your connection\n",
    "#Just need to do this once with the database\n",
    "engine = create_engine('sqlite:///:memory:')\n",
    "\n",
    "#create tables in the database...probably better to keep the same name in pandas and SQL\n",
    "love.to_sql('love', engine)\n",
    "lebron.to_sql('lebron',engine)\n",
    "\n",
    "#left join\n",
    "lebron_love = pd.read_sql_query('SELECT * FROM lebron \\\n",
    "    JOIN love ON lebron.Date = love.Date',engine)\n",
    "\n",
    "#print 'length of lebron.columns'\n",
    "#print len(lebron.columns)\n",
    "\n",
    "#remove columns with duplicated names\n",
    "lebron.drop_duplicates = lebron\n",
    "\n",
    "#print 'length of lebron.columns'\n",
    "#print len(lebron.columns)\n"
   ]
  },
  {
   "cell_type": "code",
   "execution_count": 142,
   "metadata": {
    "collapsed": false
   },
   "outputs": [
    {
     "data": {
      "text/html": [
       "<div style=\"max-height:1000px;max-width:1500px;overflow:auto;\">\n",
       "<table border=\"1\" class=\"dataframe\">\n",
       "  <thead>\n",
       "    <tr style=\"text-align: right;\">\n",
       "      <th></th>\n",
       "      <th>Rk</th>\n",
       "      <th>G</th>\n",
       "      <th>Date</th>\n",
       "      <th>Age</th>\n",
       "      <th>Tm</th>\n",
       "      <th>something</th>\n",
       "      <th>Opp</th>\n",
       "      <th>something2</th>\n",
       "      <th>GS</th>\n",
       "      <th>MP</th>\n",
       "      <th>...</th>\n",
       "      <th>TRB</th>\n",
       "      <th>AST</th>\n",
       "      <th>STL</th>\n",
       "      <th>BLK</th>\n",
       "      <th>TOV</th>\n",
       "      <th>PF</th>\n",
       "      <th>PTS</th>\n",
       "      <th>GmSc</th>\n",
       "      <th>+/-</th>\n",
       "      <th>DFS</th>\n",
       "    </tr>\n",
       "  </thead>\n",
       "  <tbody>\n",
       "    <tr>\n",
       "      <th>0</th>\n",
       "      <td>2</td>\n",
       "      <td>2</td>\n",
       "      <td>2014-10-31</td>\n",
       "      <td>29-305</td>\n",
       "      <td>CLE</td>\n",
       "      <td>@</td>\n",
       "      <td>CHI</td>\n",
       "      <td>W (+6)</td>\n",
       "      <td>1</td>\n",
       "      <td>41:40</td>\n",
       "      <td>...</td>\n",
       "      <td>8</td>\n",
       "      <td>5</td>\n",
       "      <td>4</td>\n",
       "      <td>1</td>\n",
       "      <td>3</td>\n",
       "      <td>1</td>\n",
       "      <td>36</td>\n",
       "      <td>27.4</td>\n",
       "      <td>-3</td>\n",
       "      <td>62.5</td>\n",
       "    </tr>\n",
       "    <tr>\n",
       "      <th>1</th>\n",
       "      <td>3</td>\n",
       "      <td>3</td>\n",
       "      <td>2014-11-04</td>\n",
       "      <td>29-309</td>\n",
       "      <td>CLE</td>\n",
       "      <td>@</td>\n",
       "      <td>POR</td>\n",
       "      <td>L (-19)</td>\n",
       "      <td>1</td>\n",
       "      <td>34:56</td>\n",
       "      <td>...</td>\n",
       "      <td>7</td>\n",
       "      <td>7</td>\n",
       "      <td>1</td>\n",
       "      <td>0</td>\n",
       "      <td>3</td>\n",
       "      <td>2</td>\n",
       "      <td>11</td>\n",
       "      <td>8.8</td>\n",
       "      <td>-15</td>\n",
       "      <td>31.8</td>\n",
       "    </tr>\n",
       "    <tr>\n",
       "      <th>2</th>\n",
       "      <td>4</td>\n",
       "      <td>4</td>\n",
       "      <td>2014-11-05</td>\n",
       "      <td>29-310</td>\n",
       "      <td>CLE</td>\n",
       "      <td>@</td>\n",
       "      <td>UTA</td>\n",
       "      <td>L (-2)</td>\n",
       "      <td>1</td>\n",
       "      <td>42:02</td>\n",
       "      <td>...</td>\n",
       "      <td>3</td>\n",
       "      <td>4</td>\n",
       "      <td>3</td>\n",
       "      <td>0</td>\n",
       "      <td>4</td>\n",
       "      <td>2</td>\n",
       "      <td>31</td>\n",
       "      <td>23.5</td>\n",
       "      <td>+1</td>\n",
       "      <td>46.3</td>\n",
       "    </tr>\n",
       "    <tr>\n",
       "      <th>3</th>\n",
       "      <td>5</td>\n",
       "      <td>5</td>\n",
       "      <td>2014-11-07</td>\n",
       "      <td>29-312</td>\n",
       "      <td>CLE</td>\n",
       "      <td>@</td>\n",
       "      <td>DEN</td>\n",
       "      <td>W (+9)</td>\n",
       "      <td>1</td>\n",
       "      <td>39:38</td>\n",
       "      <td>...</td>\n",
       "      <td>7</td>\n",
       "      <td>11</td>\n",
       "      <td>1</td>\n",
       "      <td>1</td>\n",
       "      <td>3</td>\n",
       "      <td>1</td>\n",
       "      <td>22</td>\n",
       "      <td>20.3</td>\n",
       "      <td>+12</td>\n",
       "      <td>51.8</td>\n",
       "    </tr>\n",
       "    <tr>\n",
       "      <th>4</th>\n",
       "      <td>6</td>\n",
       "      <td>6</td>\n",
       "      <td>2014-11-10</td>\n",
       "      <td>29-315</td>\n",
       "      <td>CLE</td>\n",
       "      <td></td>\n",
       "      <td>NOP</td>\n",
       "      <td>W (+7)</td>\n",
       "      <td>1</td>\n",
       "      <td>40:26</td>\n",
       "      <td>...</td>\n",
       "      <td>11</td>\n",
       "      <td>9</td>\n",
       "      <td>1</td>\n",
       "      <td>1</td>\n",
       "      <td>4</td>\n",
       "      <td>1</td>\n",
       "      <td>32</td>\n",
       "      <td>29.8</td>\n",
       "      <td>+16</td>\n",
       "      <td>63.3</td>\n",
       "    </tr>\n",
       "  </tbody>\n",
       "</table>\n",
       "<p>5 rows × 31 columns</p>\n",
       "</div>"
      ],
      "text/plain": [
       "  Rk  G        Date     Age   Tm something  Opp something2 GS     MP  ...   \\\n",
       "0  2  2  2014-10-31  29-305  CLE         @  CHI     W (+6)  1  41:40  ...    \n",
       "1  3  3  2014-11-04  29-309  CLE         @  POR    L (-19)  1  34:56  ...    \n",
       "2  4  4  2014-11-05  29-310  CLE         @  UTA     L (-2)  1  42:02  ...    \n",
       "3  5  5  2014-11-07  29-312  CLE         @  DEN     W (+9)  1  39:38  ...    \n",
       "4  6  6  2014-11-10  29-315  CLE            NOP     W (+7)  1  40:26  ...    \n",
       "\n",
       "  TRB AST STL BLK TOV PF PTS  GmSc  +/-   DFS  \n",
       "0   8   5   4   1   3  1  36  27.4   -3  62.5  \n",
       "1   7   7   1   0   3  2  11   8.8  -15  31.8  \n",
       "2   3   4   3   0   4  2  31  23.5   +1  46.3  \n",
       "3   7  11   1   1   3  1  22  20.3  +12  51.8  \n",
       "4  11   9   1   1   4  1  32  29.8  +16  63.3  \n",
       "\n",
       "[5 rows x 31 columns]"
      ]
     },
     "execution_count": 142,
     "metadata": {},
     "output_type": "execute_result"
    }
   ],
   "source": [
    "lebron.head()"
   ]
  },
  {
   "cell_type": "code",
   "execution_count": 143,
   "metadata": {
    "collapsed": false
   },
   "outputs": [
    {
     "name": "stdout",
     "output_type": "stream",
     "text": [
      "pre-clean up\n",
      "(72, 31)\n",
      "post-clean up\n",
      "(68, 31)\n"
     ]
    }
   ],
   "source": [
    "#clean up data - cant plot non-numeric strings...every 20 rows the schema repeats\n",
    "\n",
    "print 'pre-clean up'\n",
    "print lebron.shape\n",
    "\n",
    "#since the entire schema is replicated every N rows, we can just check one of the columns for the match\n",
    "validRow_boolVector = lebron['Rk'] != 'Rk'\n",
    "\n",
    "#use the boolean vector as a mask for only keeping True values\n",
    "lebron = lebron[validRow_boolVector]\n",
    "\n",
    "print 'post-clean up'\n",
    "print lebron.shape"
   ]
  },
  {
   "cell_type": "code",
   "execution_count": 144,
   "metadata": {
    "collapsed": false
   },
   "outputs": [],
   "source": [
    "#2015-06-23\n",
    "#Jason - head function returns a formatted string about to make it \"pretty\"\n",
    "#saveHead = blah.head() isnt a good idea, as the head function is more for display, and not saving original data\n",
    "#unicodedata.numeric(lebron.FG[:,])\n",
    "\n",
    "#This will overwrite the dataframe itself with the converted object types....AVOID!\n",
    "#lebron = lebron.convert_objects(convert_numeric=True).dtypes\n",
    "\n",
    "#Convert \"objects\" in the dataframe to numeric, float, etc\n",
    "lebron = lebron.convert_objects(convert_numeric=True)\n",
    "\n",
    "#test that these columns are numeric\n",
    "#print lebron.FG[0] + 1"
   ]
  },
  {
   "cell_type": "code",
   "execution_count": 130,
   "metadata": {
    "collapsed": false
   },
   "outputs": [
    {
     "data": {
      "text/plain": [
       "<matplotlib.axes._subplots.AxesSubplot at 0x112f2c690>"
      ]
     },
     "execution_count": 130,
     "metadata": {},
     "output_type": "execute_result"
    },
    {
     "data": {
      "image/png": "[encoded data removed]",
      "text/plain": [
       "<matplotlib.figure.Figure at 0x112014c10>"
      ]
     },
     "metadata": {},
     "output_type": "display_data"
    }
   ],
   "source": [
    "#visualization\n",
    "\n",
    "#'MP' needs to be converted to a number\n",
    "#df = pd.DataFrame(df, columns=['FG', 'FGA', 'PTS','MP'])\n",
    "\n",
    "lebron_boxPlotObject = pd.DataFrame(lebron, columns=['FG', 'FGA', 'PTS'])\n",
    "\n",
    "sns.boxplot(df)"
   ]
  }
 ],
 "metadata": {
  "kernelspec": {
   "display_name": "Python 2",
   "language": "python",
   "name": "python2"
  },
  "language_info": {
   "codemirror_mode": {
    "name": "ipython",
    "version": 2
   },
   "file_extension": ".py",
   "mimetype": "text/x-python",
   "name": "python",
   "nbconvert_exporter": "python",
   "pygments_lexer": "ipython2",
   "version": "2.7.10"
  }
 },
 "nbformat": 4,
 "nbformat_minor": 0
}
