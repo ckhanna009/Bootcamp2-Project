{
 "cells": [
  {
   "cell_type": "code",
   "execution_count": 5,
   "metadata": {
    "collapsed": false
   },
   "outputs": [],
   "source": [
    "from google.transit import gtfs_realtime_pb2\n",
    "import urllib\n",
    "import time\n",
    "import datetime\n",
    "\n",
    "from bs4 import BeautifulSoup\n",
    "import requests\n",
    "import re"
   ]
  },
  {
   "cell_type": "code",
   "execution_count": 6,
   "metadata": {
    "collapsed": true
   },
   "outputs": [],
   "source": [
    "### save in file definition\n",
    "def cleanfile():\n",
    "    # 'a' to add line to txt file\n",
    "    with open('data/mtaRealTime.txt', 'w'): pass\n"
   ]
  },
  {
   "cell_type": "code",
   "execution_count": 7,
   "metadata": {
    "collapsed": true
   },
   "outputs": [],
   "source": [
    "### save in file definition\n",
    "def savefile(listitems):\n",
    "    # 'a' to add line to txt file\n",
    "    with open('data/mtaRealTime.txt', 'a') as f:\n",
    "            f.write(listitems + '\\n')\n"
   ]
  },
  {
   "cell_type": "code",
   "execution_count": 8,
   "metadata": {
    "collapsed": false
   },
   "outputs": [],
   "source": [
    "def loopdwlmta(x):\n",
    "    \n",
    "    #cleanfile realtime txt\n",
    "    cleanfile()\n",
    "    \n",
    "    #system time for reference\n",
    "    tmpSys = datetime.datetime.strftime(datetime.datetime.now(), '%Y-%m-%d %H:%M:%S')\n",
    "    \n",
    "    ##load list of lines perturbated\n",
    "    #listlineperturbated = listofperturbations(urllist)\n",
    "\n",
    "    ## send request to api mta.info using my own key\n",
    "    feed = gtfs_realtime_pb2.FeedMessage()\n",
    "    response = urllib.urlopen('http://datamine.mta.info/mta_esi.php?key=5a8f6f4375e9f4bdea9b0c86afeaf911')\n",
    "    feed.ParseFromString(response.read())\n",
    "    \n",
    "    \n",
    "    ## looping the content downloaded\n",
    "    for entity in feed.entity:\n",
    "        if entity.HasField('trip_update'):\n",
    "    \n",
    "            ## trip update: 3 data characterisitcs\n",
    "            TripIdi = entity.trip_update.trip.trip_id\n",
    "            StartDatei = entity.trip_update.trip.start_date\n",
    "            Routei = entity.trip_update.trip.route_id\n",
    "            #if Routei in listlineperturbated:\n",
    "            #    Delaysi = \"delays\"\n",
    "            #else:\n",
    "            Delaysi = \"\"\n",
    "\n",
    "            ## trip alert: 1 data characterisitcs\n",
    "            if entity.HasField('alert'):\n",
    "                Alerti = entity.alert.header_text\n",
    "            else:\n",
    "                Alerti = ''\n",
    "\n",
    "            ## looking to record first 3 predicted arrival time \n",
    "            Arrivetmp=[]\n",
    "            stop_id=[]\n",
    "\n",
    "            tripcomplete = []\n",
    "\n",
    "            if len(entity.trip_update.stop_time_update) <> 0:\n",
    "                #record only first three trip updates\n",
    "                p3trip = min(len(entity.trip_update.stop_time_update),1)\n",
    "\n",
    "                j=0\n",
    "                while j < p3trip:\n",
    "                    tripcomplete = []\n",
    "                    #print j\n",
    "                    ArrivalTime = entity.trip_update.stop_time_update[j].arrival.time\n",
    "                    stop_id = entity.trip_update.stop_time_update[j].stop_id\n",
    "                    station_nth=j\n",
    "\n",
    "                    tripcomplete.extend([tmpSys,TripIdi,StartDatei,Routei,Alerti,station_nth,stop_id,ArrivalTime,Delaysi])\n",
    "                    #print tripcomplete, type(tripcomplete)\n",
    "                    tripcomplstr = ','.join([str(i) for i in tripcomplete])\n",
    "                    savefile(tripcomplstr)\n",
    "\n",
    "                    j+=1"
   ]
  },
  {
   "cell_type": "code",
   "execution_count": 9,
   "metadata": {
    "collapsed": false,
    "scrolled": true
   },
   "outputs": [],
   "source": [
    "# test function defined above\n",
    "loopdwlmta(1)"
   ]
  },
  {
   "cell_type": "code",
   "execution_count": null,
   "metadata": {
    "collapsed": false
   },
   "outputs": [],
   "source": [
    "import time \n",
    "while True:\n",
    "    try: \n",
    "        loopdwlmta(1)\n",
    "    except:\n",
    "        continue\n",
    "    time.sleep(30)"
   ]
  },
  {
   "cell_type": "code",
   "execution_count": null,
   "metadata": {
    "collapsed": true
   },
   "outputs": [],
   "source": []
  }
 ],
 "metadata": {
  "kernelspec": {
   "display_name": "Python 2",
   "language": "python",
   "name": "python2"
  },
  "language_info": {
   "codemirror_mode": {
    "name": "ipython",
    "version": 2
   },
   "file_extension": ".py",
   "mimetype": "text/x-python",
   "name": "python",
   "nbconvert_exporter": "python",
   "pygments_lexer": "ipython2",
   "version": "2.7.9"
  }
 },
 "nbformat": 4,
 "nbformat_minor": 0
}
