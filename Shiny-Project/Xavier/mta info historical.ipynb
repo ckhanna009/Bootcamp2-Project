{
 "cells": [
  {
   "cell_type": "code",
   "execution_count": 3,
   "metadata": {
    "collapsed": false
   },
   "outputs": [],
   "source": [
    "from google.transit import gtfs_realtime_pb2\n",
    "import urllib\n",
    "import time\n",
    "import datetime\n",
    "\n",
    "from bs4 import BeautifulSoup\n",
    "import requests\n",
    "import re"
   ]
  },
  {
   "cell_type": "code",
   "execution_count": null,
   "metadata": {
    "collapsed": true
   },
   "outputs": [],
   "source": [
    "## pulling info from api\n",
    "\n",
    "feed = gtfs_realtime_pb2.FeedMessage()\n",
    "response = urllib.urlopen('http://datamine.mta.info/mta_esi.php?key=5a8f6f4375e9f4bdea9b0c86afeaf911')\n",
    "feed.ParseFromString(response.read())\n",
    "for entity in feed.entity:\n",
    "  if entity.HasField('trip_update'):\n",
    "    print entity.trip_update\n"
   ]
  },
  {
   "cell_type": "code",
   "execution_count": 24,
   "metadata": {
    "collapsed": false
   },
   "outputs": [
    {
     "data": {
      "text/plain": [
       "434"
      ]
     },
     "execution_count": 24,
     "metadata": {},
     "output_type": "execute_result"
    }
   ],
   "source": [
    "len(feed.entity)"
   ]
  },
  {
   "cell_type": "code",
   "execution_count": 25,
   "metadata": {
    "collapsed": false
   },
   "outputs": [
    {
     "data": {
      "text/plain": [
       "u'102600_1..S02R'"
      ]
     },
     "execution_count": 25,
     "metadata": {},
     "output_type": "execute_result"
    }
   ],
   "source": [
    "# trip ID\n",
    "feed.entity[2].trip_update.trip.trip_id"
   ]
  },
  {
   "cell_type": "code",
   "execution_count": 26,
   "metadata": {
    "collapsed": false
   },
   "outputs": [
    {
     "data": {
      "text/plain": [
       "1"
      ]
     },
     "execution_count": 26,
     "metadata": {},
     "output_type": "execute_result"
    }
   ],
   "source": [
    "# length of stop time update\n",
    "len(feed.entity[2].trip_update.stop_time_update)"
   ]
  },
  {
   "cell_type": "code",
   "execution_count": null,
   "metadata": {
    "collapsed": true
   },
   "outputs": [],
   "source": [
    "# stop ID\n",
    "feed.entity[2].trip_update.stop_time_update[1].stop_id"
   ]
  },
  {
   "cell_type": "code",
   "execution_count": null,
   "metadata": {
    "collapsed": true
   },
   "outputs": [],
   "source": [
    "# time\n",
    "feed.entity[2].trip_update.stop_time_update[1].arrival.time"
   ]
  },
  {
   "cell_type": "code",
   "execution_count": 29,
   "metadata": {
    "collapsed": false
   },
   "outputs": [
    {
     "data": {
      "text/plain": [
       "'2015-07-22 18:07:18'"
      ]
     },
     "execution_count": 29,
     "metadata": {},
     "output_type": "execute_result"
    }
   ],
   "source": [
    "#system time\n",
    "datetime.datetime.strftime(datetime.datetime.now(), '%Y-%m-%d %H:%M:%S')"
   ]
  },
  {
   "cell_type": "code",
   "execution_count": 30,
   "metadata": {
    "collapsed": false
   },
   "outputs": [
    {
     "name": "stdout",
     "output_type": "stream",
     "text": [
      "id: \"000003\"\n",
      "trip_update {\n",
      "  trip {\n",
      "    trip_id: \"102600_1..S02R\"\n",
      "    start_date: \"20150722\"\n",
      "    route_id: \"1\"\n",
      "  }\n",
      "  stop_time_update {\n",
      "    arrival {\n",
      "      time: 1437602866\n",
      "    }\n",
      "    stop_id: \"140S\"\n",
      "  }\n",
      "}\n",
      "\n"
     ]
    }
   ],
   "source": [
    "print feed.entity[2]"
   ]
  },
  {
   "cell_type": "code",
   "execution_count": 10,
   "metadata": {
    "collapsed": true
   },
   "outputs": [],
   "source": [
    "### save in file definition\n",
    "def savefile(listitems):\n",
    "    # 'a' to add line to txt file\n",
    "    with open('mta.txt', 'a') as f:\n",
    "            f.write(listitems + '\\n')\n"
   ]
  },
  {
   "cell_type": "code",
   "execution_count": 11,
   "metadata": {
    "collapsed": false
   },
   "outputs": [
    {
     "name": "stdout",
     "output_type": "stream",
     "text": [
      "['2015-07-07 22:30:47', u'128800_1..N02R', u'20150707', u'1', '', u'101N', 1436322539L] <type 'list'>\n"
     ]
    }
   ],
   "source": [
    "## draft of the loop\n",
    "\n",
    "#system time\n",
    "tmpSys = datetime.datetime.strftime(datetime.datetime.now(), '%Y-%m-%d %H:%M:%S')\n",
    "\n",
    "i = 1\n",
    "\n",
    "entity=feed.entity[2]\n",
    "if entity.HasField('trip_update'):\n",
    "    \n",
    "    ## trip update: 3 data characterisitcs\n",
    "    TripIdi = entity.trip_update.trip.trip_id\n",
    "    StartDatei = entity.trip_update.trip.start_date\n",
    "    Routei = entity.trip_update.trip.route_id\n",
    "    \n",
    "    ## trip alert: 1 data characterisitcs\n",
    "    if entity.HasField('alert'):\n",
    "        Alerti = entity.alert.header_text\n",
    "    else:\n",
    "        Alerti = ''\n",
    "    \n",
    "    ## looking to record first 3 predicted arrival time \n",
    "    Arrivetmp=[]\n",
    "    stop_id=[]\n",
    "    \n",
    "    tripcomplete = []\n",
    "    \n",
    "    if len(entity.trip_update.stop_time_update) <> 0:\n",
    "        #record only first three trip updates\n",
    "        p3trip = min(len(entity.trip_update.stop_time_update),3)\n",
    "        \n",
    "        j=0\n",
    "        while j < p3trip:\n",
    "            tripcomplete = []\n",
    "            #print j\n",
    "            ArrivalTime = entity.trip_update.stop_time_update[j].arrival.time\n",
    "            stop_id = entity.trip_update.stop_time_update[j].stop_id\n",
    "            \n",
    "            tripcomplete.extend([tmpSys,TripIdi,StartDatei,Routei,Alerti,stop_id,ArrivalTime])\n",
    "            print tripcomplete, type(tripcomplete)\n",
    "            tripcomplstr = ','.join([str(i) for i in tripcomplete])\n",
    "            savefile(tripcomplstr)\n",
    "            \n",
    "            j+=1\n",
    "\n",
    "    \n"
   ]
  },
  {
   "cell_type": "code",
   "execution_count": 12,
   "metadata": {
    "collapsed": true
   },
   "outputs": [],
   "source": [
    "# Perturbation on MTA info -- webscraping of mta.info :\n",
    "\n",
    "#definition of extracting function \n",
    "\n",
    "def extract_url_content(urlv, headersv):\n",
    "        # Request by url and headers\n",
    "        req =  requests.get(urlv, headers=headers)\n",
    "        demande = req.text\n",
    "        # Request status code\n",
    "        statut_demande = req.status_code\n",
    "        if statut_demande/100 in [4,5]:\n",
    "            return 'error on requests with error: ', statut_demande\n",
    "        return BeautifulSoup(demande)"
   ]
  },
  {
   "cell_type": "code",
   "execution_count": null,
   "metadata": {
    "collapsed": true
   },
   "outputs": [],
   "source": [
    "# Perturbation on MTA info -- webscraping of mta.info :\n",
    "\n",
    "#draft for the delays for different lines from mta.info\n",
    "\n",
    "url = 'http://www.mta.info/status/subway/123'\n",
    "\n",
    "headers = None\n",
    "\n",
    "texturl = extract_url_content(url, headers)\n",
    "print texturl.prettify"
   ]
  },
  {
   "cell_type": "code",
   "execution_count": null,
   "metadata": {
    "collapsed": true
   },
   "outputs": [],
   "source": [
    "# Perturbation on MTA info -- webscraping of mta.info :\n",
    "\n",
    "## draft of extraction of lines perturbated\n",
    "\n",
    "Delaystext = texturl.find(class_=\"TitleDelay\").get_text()\n",
    "print Delaystext\n",
    "\n",
    "lineaffected001 = texturl.findAll(id='status_display')\n",
    "#print lineaffected001\n",
    "lineaffected002 = [i.findAll('img') for i in lineaffected001]\n",
    "print lineaffected002\n",
    "print len(lineaffected002)\n",
    "for j in range(len(lineaffected002)):\n",
    "    textaffected001 = [i['alt'][:1] for i in lineaffected002[j]]\n",
    "textaffected001"
   ]
  },
  {
   "cell_type": "code",
   "execution_count": 15,
   "metadata": {
    "collapsed": false
   },
   "outputs": [],
   "source": [
    "\n",
    "## perturbations on MTA lines are publised here:\n",
    "\n",
    "urllist = [\n",
    "    'http://www.mta.info/status/subway/123',\n",
    "    'http://www.mta.info/status/subway/456',\n",
    "    'http://www.mta.info/status/subway/7',\n",
    "    'http://www.mta.info/status/subway/ACE',\n",
    "    'http://www.mta.info/status/subway/BDFM',\n",
    "    'http://www.mta.info/status/subway/JZ',\n",
    "    'http://www.mta.info/status/subway/L',\n",
    "    'http://www.mta.info/status/subway/NQR',\n",
    "    'http://www.mta.info/status/subway/S'\n",
    "]\n"
   ]
  },
  {
   "cell_type": "code",
   "execution_count": 16,
   "metadata": {
    "collapsed": true
   },
   "outputs": [],
   "source": [
    "## Summary of the loop\n",
    "def listofperturbations(listOfLines):\n",
    "    \n",
    "    ## webscraping of mta/info using the list of url listed above\n",
    "    linesperturbated = []\n",
    "    for url in listOfLines:\n",
    "        headers = None\n",
    "        urlbody = extract_url_content(url, headers)\n",
    "        #print url, 'find TitleDelay',  urlbody.find(class_=\"TitleDelay\")\n",
    "        \n",
    "        if urlbody.find(class_=\"TitleDelay\") <> None:\n",
    "            Delaystext = urlbody.find(class_=\"TitleDelay\").get_text()\n",
    "            #print 'delaystext', Delaystext\n",
    "            if Delaystext == \"Delays\":\n",
    "                lineaffected001 = urlbody.findAll(id='status_display')\n",
    "                lineaffected002 = [i.findAll('img') for i in lineaffected001]\n",
    "                #print 'line affectd 002', lineaffected002\n",
    "            for j in range(len(lineaffected002)):\n",
    "                    #print j\n",
    "                    for i in lineaffected002[j]:\n",
    "                        try:\n",
    "                            linesperturbated.extend(i['alt'][:1])\n",
    "                        except:\n",
    "                            continue\n",
    "                            \n",
    "                    #textaffected001 = [i for i in lineaffected002[j]]\n",
    "                    #print textaffected001\n",
    "                    #linesperturbated.extend(textaffected001)\n",
    "    return linesperturbated "
   ]
  },
  {
   "cell_type": "code",
   "execution_count": 17,
   "metadata": {
    "collapsed": false
   },
   "outputs": [
    {
     "data": {
      "text/plain": [
       "[]"
      ]
     },
     "execution_count": 17,
     "metadata": {},
     "output_type": "execute_result"
    }
   ],
   "source": [
    "listofperturbations(urllist)"
   ]
  },
  {
   "cell_type": "code",
   "execution_count": 19,
   "metadata": {
    "collapsed": false
   },
   "outputs": [],
   "source": [
    "\n",
    "### save in file definition\n",
    "def savefile(listitems):\n",
    "    # 'a' to add line to txt file\n",
    "    with open('mta.txt', 'a') as f:\n",
    "            f.write(listitems + '\\n')\n",
    "\n",
    "### final code to download and clean the real time feed\n",
    "def loopdwlmta(x):\n",
    "    \n",
    "    #system time for reference\n",
    "    tmpSys = datetime.datetime.strftime(datetime.datetime.now(), '%Y-%m-%d %H:%M:%S')\n",
    "    \n",
    "    ##load list of lines perturbated\n",
    "    listlineperturbated = listofperturbations(urllist)\n",
    "\n",
    "    ## send request to api mta.info using my own key\n",
    "    feed = gtfs_realtime_pb2.FeedMessage()\n",
    "    response = urllib.urlopen('http://datamine.mta.info/mta_esi.php?key=5a8f6f4375e9f4bdea9b0c86afeaf911')\n",
    "    feed.ParseFromString(response.read())\n",
    "    \n",
    "    \n",
    "    ## looping the content downloaded\n",
    "    for entity in feed.entity:\n",
    "        if entity.HasField('trip_update'):\n",
    "    \n",
    "            ## trip update: 3 data characterisitcs\n",
    "            TripIdi = entity.trip_update.trip.trip_id\n",
    "            StartDatei = entity.trip_update.trip.start_date\n",
    "            Routei = entity.trip_update.trip.route_id\n",
    "            if Routei in listlineperturbated:\n",
    "                Delaysi = \"delays\"\n",
    "            else:\n",
    "                Delaysi = \"\"\n",
    "\n",
    "            ## trip alert: 1 data characterisitcs\n",
    "            if entity.HasField('alert'):\n",
    "                Alerti = entity.alert.header_text\n",
    "            else:\n",
    "                Alerti = ''\n",
    "\n",
    "            ## looking to record first 3 predicted arrival time \n",
    "            Arrivetmp=[]\n",
    "            stop_id=[]\n",
    "\n",
    "            tripcomplete = []\n",
    "\n",
    "            if len(entity.trip_update.stop_time_update) <> 0:\n",
    "                #record only first three trip updates\n",
    "                p3trip = min(len(entity.trip_update.stop_time_update),1)\n",
    "\n",
    "                j=0\n",
    "                while j < p3trip:\n",
    "                    tripcomplete = []\n",
    "                    #print j\n",
    "                    ArrivalTime = entity.trip_update.stop_time_update[j].arrival.time\n",
    "                    stop_id = entity.trip_update.stop_time_update[j].stop_id\n",
    "                    station_nth=j\n",
    "\n",
    "                    tripcomplete.extend([tmpSys,TripIdi,StartDatei,Routei,Alerti,station_nth,stop_id,ArrivalTime,Delaysi])\n",
    "                    #print tripcomplete, type(tripcomplete)\n",
    "                    tripcomplstr = ','.join([str(i) for i in tripcomplete])\n",
    "                    savefile(tripcomplstr)\n",
    "\n",
    "                    j+=1"
   ]
  },
  {
   "cell_type": "code",
   "execution_count": 20,
   "metadata": {
    "collapsed": false,
    "scrolled": true
   },
   "outputs": [],
   "source": [
    "# test function defined above\n",
    "loopdwlmta(1)"
   ]
  },
  {
   "cell_type": "code",
   "execution_count": 22,
   "metadata": {
    "collapsed": false
   },
   "outputs": [
    {
     "name": "stdout",
     "output_type": "stream",
     "text": [
      "None\n",
      "None\n",
      "None\n",
      "None\n",
      "None\n",
      "None\n",
      "None\n",
      "None\n",
      "None\n"
     ]
    }
   ],
   "source": [
    "linesperturbated = []\n",
    "for url in urllist:\n",
    "    headers = None\n",
    "    texturl2 = extract_url_content(url, headers)\n",
    "    print  texturl2.find(class_=\"TitleDelay\") \n",
    "    if texturl2.find(class_=\"TitleDelay\") <> None:\n",
    "        Delaystext = texturl2.find(class_=\"TitleDelay\").get_text()\n",
    "        if Delaystext == \"Delays\":\n",
    "            lineaffected001 = texturl2.findAll(id='status_display')\n",
    "            lineaffected002 = [i.findAll('img') for i in lineaffected001]\n",
    "            print lineaffected002\n",
    "            for j in range(len(lineaffected002)):\n",
    "                    #print j\n",
    "                    for i in lineaffected002[j]:\n",
    "                        try:\n",
    "                            linesperturbated.extend(i['alt'][:1])\n",
    "                        except:\n",
    "                            continue\n",
    "                            \n",
    "                    #textaffected001 = [i for i in lineaffected002[j]]\n",
    "                    #print textaffected001\n",
    "                    #linesperturbated.extend(textaffected001)\n"
   ]
  },
  {
   "cell_type": "code",
   "execution_count": 23,
   "metadata": {
    "collapsed": false
   },
   "outputs": [
    {
     "data": {
      "text/plain": [
       "[]"
      ]
     },
     "execution_count": 23,
     "metadata": {},
     "output_type": "execute_result"
    }
   ],
   "source": [
    "linesperturbated"
   ]
  },
  {
   "cell_type": "code",
   "execution_count": null,
   "metadata": {
    "collapsed": false
   },
   "outputs": [],
   "source": [
    "import time \n",
    "while True:\n",
    "    try: \n",
    "        loopdwlmta(1)\n",
    "    except:\n",
    "        continue\n",
    "    time.sleep(300)"
   ]
  },
  {
   "cell_type": "code",
   "execution_count": null,
   "metadata": {
    "collapsed": true
   },
   "outputs": [],
   "source": []
  }
 ],
 "metadata": {
  "kernelspec": {
   "display_name": "Python 2",
   "language": "python",
   "name": "python2"
  },
  "language_info": {
   "codemirror_mode": {
    "name": "ipython",
    "version": 2
   },
   "file_extension": ".py",
   "mimetype": "text/x-python",
   "name": "python",
   "nbconvert_exporter": "python",
   "pygments_lexer": "ipython2",
   "version": "2.7.9"
  }
 },
 "nbformat": 4,
 "nbformat_minor": 0
}
